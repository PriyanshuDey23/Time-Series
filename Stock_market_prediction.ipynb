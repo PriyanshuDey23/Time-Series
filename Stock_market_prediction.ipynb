{
 "cells": [
  {
   "cell_type": "markdown",
   "id": "672fe42b",
   "metadata": {
    "id": "672fe42b"
   },
   "source": [
    "# Stock Market Prediction And Forecasting Using Stacked LSTM"
   ]
  },
  {
   "cell_type": "code",
   "execution_count": 1,
   "id": "cf1a1ba4",
   "metadata": {
    "id": "cf1a1ba4"
   },
   "outputs": [],
   "source": [
    "# Keras and Tensorflow"
   ]
  },
  {
   "cell_type": "markdown",
   "id": "4c44bb02",
   "metadata": {
    "id": "4c44bb02"
   },
   "source": [
    "# Step By Step Process\n",
    "- We will collect he stock data -Apple\n",
    "- pre process the data- Train and test\n",
    "- Create a Stacked LSTM Model\n",
    "- Predict the test data and plot the output\n",
    "- Predict the future 30 days and plot the output"
   ]
  },
  {
   "cell_type": "code",
   "execution_count": 2,
   "id": "8fb8694c",
   "metadata": {
    "id": "8fb8694c"
   },
   "outputs": [],
   "source": [
    "# Data Collection\n",
    "import pandas_datareader\n",
    "from pandas_datareader import data as pdr\n",
    "import pandas as pd\n",
    "import yfinance as yf\n",
    "from datetime import datetime\n",
    "yf.pdr_override()"
   ]
  },
  {
   "cell_type": "code",
   "execution_count": 3,
   "id": "0567b118",
   "metadata": {
    "colab": {
     "base_uri": "https://localhost:8080/",
     "height": 646
    },
    "id": "0567b118",
    "outputId": "32812dbf-696a-4d50-8608-5dd738f7f778"
   },
   "outputs": [
    {
     "name": "stderr",
     "output_type": "stream",
     "text": [
      "\r",
      "[*********************100%%**********************]  1 of 1 completed\n"
     ]
    },
    {
     "data": {
      "application/vnd.google.colaboratory.intrinsic+json": {
       "summary": "{\n  \"name\": \"df\",\n  \"rows\": 10949,\n  \"fields\": [\n    {\n      \"column\": \"Date\",\n      \"properties\": {\n        \"dtype\": \"date\",\n        \"min\": \"1980-12-12 00:00:00\",\n        \"max\": \"2024-05-17 00:00:00\",\n        \"num_unique_values\": 10949,\n        \"samples\": [\n          \"2001-11-05 00:00:00\",\n          \"1989-08-10 00:00:00\",\n          \"2024-04-05 00:00:00\"\n        ],\n        \"semantic_type\": \"\",\n        \"description\": \"\"\n      }\n    },\n    {\n      \"column\": \"Open\",\n      \"properties\": {\n        \"dtype\": \"number\",\n        \"std\": 44.321566902595954,\n        \"min\": 0.049665000289678574,\n        \"max\": 198.02000427246094,\n        \"num_unique_values\": 6258,\n        \"samples\": [\n          0.3973209857940674,\n          65.28250122070312,\n          0.311383992433548\n        ],\n        \"semantic_type\": \"\",\n        \"description\": \"\"\n      }\n    },\n    {\n      \"column\": \"High\",\n      \"properties\": {\n        \"dtype\": \"number\",\n        \"std\": 44.79487800302525,\n        \"min\": 0.049665000289678574,\n        \"max\": 199.6199951171875,\n        \"num_unique_values\": 6200,\n        \"samples\": [\n          119.19999694824219,\n          6.2771430015563965,\n          3.9564290046691895\n        ],\n        \"semantic_type\": \"\",\n        \"description\": \"\"\n      }\n    },\n    {\n      \"column\": \"Low\",\n      \"properties\": {\n        \"dtype\": \"number\",\n        \"std\": 43.87750338223043,\n        \"min\": 0.04910700023174286,\n        \"max\": 197.0,\n        \"num_unique_values\": 6189,\n        \"samples\": [\n          0.32428601384162903,\n          0.26339301466941833,\n          11.6875\n        ],\n        \"semantic_type\": \"\",\n        \"description\": \"\"\n      }\n    },\n    {\n      \"column\": \"Close\",\n      \"properties\": {\n        \"dtype\": \"number\",\n        \"std\": 44.3564479356184,\n        \"min\": 0.04910700023174286,\n        \"max\": 198.11000061035156,\n        \"num_unique_values\": 6365,\n        \"samples\": [\n          10.398571014404297,\n          2.0664288997650146,\n          0.37723198533058167\n        ],\n        \"semantic_type\": \"\",\n        \"description\": \"\"\n      }\n    },\n    {\n      \"column\": \"Adj Close\",\n      \"properties\": {\n        \"dtype\": \"number\",\n        \"std\": 43.89989309164317,\n        \"min\": 0.037900302559137344,\n        \"max\": 197.5895233154297,\n        \"num_unique_values\": 7941,\n        \"samples\": [\n          176.79078674316406,\n          175.87442016601562,\n          0.23816977441310883\n        ],\n        \"semantic_type\": \"\",\n        \"description\": \"\"\n      }\n    },\n    {\n      \"column\": \"Volume\",\n      \"properties\": {\n        \"dtype\": \"number\",\n        \"std\": 335771471,\n        \"min\": 0,\n        \"max\": 7421640800,\n        \"num_unique_values\": 10385,\n        \"samples\": [\n          75532800,\n          136864000,\n          255987200\n        ],\n        \"semantic_type\": \"\",\n        \"description\": \"\"\n      }\n    }\n  ]\n}",
       "type": "dataframe",
       "variable_name": "df"
      },
      "text/html": [
       "\n",
       "  <div id=\"df-c7762d80-1ec6-462c-97bd-74993e021855\" class=\"colab-df-container\">\n",
       "    <div>\n",
       "<style scoped>\n",
       "    .dataframe tbody tr th:only-of-type {\n",
       "        vertical-align: middle;\n",
       "    }\n",
       "\n",
       "    .dataframe tbody tr th {\n",
       "        vertical-align: top;\n",
       "    }\n",
       "\n",
       "    .dataframe thead th {\n",
       "        text-align: right;\n",
       "    }\n",
       "</style>\n",
       "<table border=\"1\" class=\"dataframe\">\n",
       "  <thead>\n",
       "    <tr style=\"text-align: right;\">\n",
       "      <th></th>\n",
       "      <th>Open</th>\n",
       "      <th>High</th>\n",
       "      <th>Low</th>\n",
       "      <th>Close</th>\n",
       "      <th>Adj Close</th>\n",
       "      <th>Volume</th>\n",
       "    </tr>\n",
       "    <tr>\n",
       "      <th>Date</th>\n",
       "      <th></th>\n",
       "      <th></th>\n",
       "      <th></th>\n",
       "      <th></th>\n",
       "      <th></th>\n",
       "      <th></th>\n",
       "    </tr>\n",
       "  </thead>\n",
       "  <tbody>\n",
       "    <tr>\n",
       "      <th>1980-12-12</th>\n",
       "      <td>0.128348</td>\n",
       "      <td>0.128906</td>\n",
       "      <td>0.128348</td>\n",
       "      <td>0.128348</td>\n",
       "      <td>0.099058</td>\n",
       "      <td>469033600</td>\n",
       "    </tr>\n",
       "    <tr>\n",
       "      <th>1980-12-15</th>\n",
       "      <td>0.122210</td>\n",
       "      <td>0.122210</td>\n",
       "      <td>0.121652</td>\n",
       "      <td>0.121652</td>\n",
       "      <td>0.093890</td>\n",
       "      <td>175884800</td>\n",
       "    </tr>\n",
       "    <tr>\n",
       "      <th>1980-12-16</th>\n",
       "      <td>0.113281</td>\n",
       "      <td>0.113281</td>\n",
       "      <td>0.112723</td>\n",
       "      <td>0.112723</td>\n",
       "      <td>0.086999</td>\n",
       "      <td>105728000</td>\n",
       "    </tr>\n",
       "    <tr>\n",
       "      <th>1980-12-17</th>\n",
       "      <td>0.115513</td>\n",
       "      <td>0.116071</td>\n",
       "      <td>0.115513</td>\n",
       "      <td>0.115513</td>\n",
       "      <td>0.089152</td>\n",
       "      <td>86441600</td>\n",
       "    </tr>\n",
       "    <tr>\n",
       "      <th>1980-12-18</th>\n",
       "      <td>0.118862</td>\n",
       "      <td>0.119420</td>\n",
       "      <td>0.118862</td>\n",
       "      <td>0.118862</td>\n",
       "      <td>0.091737</td>\n",
       "      <td>73449600</td>\n",
       "    </tr>\n",
       "    <tr>\n",
       "      <th>...</th>\n",
       "      <td>...</td>\n",
       "      <td>...</td>\n",
       "      <td>...</td>\n",
       "      <td>...</td>\n",
       "      <td>...</td>\n",
       "      <td>...</td>\n",
       "    </tr>\n",
       "    <tr>\n",
       "      <th>2024-05-13</th>\n",
       "      <td>185.440002</td>\n",
       "      <td>187.100006</td>\n",
       "      <td>184.619995</td>\n",
       "      <td>186.279999</td>\n",
       "      <td>186.279999</td>\n",
       "      <td>72044800</td>\n",
       "    </tr>\n",
       "    <tr>\n",
       "      <th>2024-05-14</th>\n",
       "      <td>187.509995</td>\n",
       "      <td>188.300003</td>\n",
       "      <td>186.289993</td>\n",
       "      <td>187.429993</td>\n",
       "      <td>187.429993</td>\n",
       "      <td>52393600</td>\n",
       "    </tr>\n",
       "    <tr>\n",
       "      <th>2024-05-15</th>\n",
       "      <td>187.910004</td>\n",
       "      <td>190.649994</td>\n",
       "      <td>187.369995</td>\n",
       "      <td>189.720001</td>\n",
       "      <td>189.720001</td>\n",
       "      <td>70400000</td>\n",
       "    </tr>\n",
       "    <tr>\n",
       "      <th>2024-05-16</th>\n",
       "      <td>190.470001</td>\n",
       "      <td>191.100006</td>\n",
       "      <td>189.660004</td>\n",
       "      <td>189.839996</td>\n",
       "      <td>189.839996</td>\n",
       "      <td>52800800</td>\n",
       "    </tr>\n",
       "    <tr>\n",
       "      <th>2024-05-17</th>\n",
       "      <td>189.380005</td>\n",
       "      <td>190.809998</td>\n",
       "      <td>189.220001</td>\n",
       "      <td>190.270004</td>\n",
       "      <td>190.270004</td>\n",
       "      <td>8789664</td>\n",
       "    </tr>\n",
       "  </tbody>\n",
       "</table>\n",
       "<p>10949 rows × 6 columns</p>\n",
       "</div>\n",
       "    <div class=\"colab-df-buttons\">\n",
       "\n",
       "  <div class=\"colab-df-container\">\n",
       "    <button class=\"colab-df-convert\" onclick=\"convertToInteractive('df-c7762d80-1ec6-462c-97bd-74993e021855')\"\n",
       "            title=\"Convert this dataframe to an interactive table.\"\n",
       "            style=\"display:none;\">\n",
       "\n",
       "  <svg xmlns=\"http://www.w3.org/2000/svg\" height=\"24px\" viewBox=\"0 -960 960 960\">\n",
       "    <path d=\"M120-120v-720h720v720H120Zm60-500h600v-160H180v160Zm220 220h160v-160H400v160Zm0 220h160v-160H400v160ZM180-400h160v-160H180v160Zm440 0h160v-160H620v160ZM180-180h160v-160H180v160Zm440 0h160v-160H620v160Z\"/>\n",
       "  </svg>\n",
       "    </button>\n",
       "\n",
       "  <style>\n",
       "    .colab-df-container {\n",
       "      display:flex;\n",
       "      gap: 12px;\n",
       "    }\n",
       "\n",
       "    .colab-df-convert {\n",
       "      background-color: #E8F0FE;\n",
       "      border: none;\n",
       "      border-radius: 50%;\n",
       "      cursor: pointer;\n",
       "      display: none;\n",
       "      fill: #1967D2;\n",
       "      height: 32px;\n",
       "      padding: 0 0 0 0;\n",
       "      width: 32px;\n",
       "    }\n",
       "\n",
       "    .colab-df-convert:hover {\n",
       "      background-color: #E2EBFA;\n",
       "      box-shadow: 0px 1px 2px rgba(60, 64, 67, 0.3), 0px 1px 3px 1px rgba(60, 64, 67, 0.15);\n",
       "      fill: #174EA6;\n",
       "    }\n",
       "\n",
       "    .colab-df-buttons div {\n",
       "      margin-bottom: 4px;\n",
       "    }\n",
       "\n",
       "    [theme=dark] .colab-df-convert {\n",
       "      background-color: #3B4455;\n",
       "      fill: #D2E3FC;\n",
       "    }\n",
       "\n",
       "    [theme=dark] .colab-df-convert:hover {\n",
       "      background-color: #434B5C;\n",
       "      box-shadow: 0px 1px 3px 1px rgba(0, 0, 0, 0.15);\n",
       "      filter: drop-shadow(0px 1px 2px rgba(0, 0, 0, 0.3));\n",
       "      fill: #FFFFFF;\n",
       "    }\n",
       "  </style>\n",
       "\n",
       "    <script>\n",
       "      const buttonEl =\n",
       "        document.querySelector('#df-c7762d80-1ec6-462c-97bd-74993e021855 button.colab-df-convert');\n",
       "      buttonEl.style.display =\n",
       "        google.colab.kernel.accessAllowed ? 'block' : 'none';\n",
       "\n",
       "      async function convertToInteractive(key) {\n",
       "        const element = document.querySelector('#df-c7762d80-1ec6-462c-97bd-74993e021855');\n",
       "        const dataTable =\n",
       "          await google.colab.kernel.invokeFunction('convertToInteractive',\n",
       "                                                    [key], {});\n",
       "        if (!dataTable) return;\n",
       "\n",
       "        const docLinkHtml = 'Like what you see? Visit the ' +\n",
       "          '<a target=\"_blank\" href=https://colab.research.google.com/notebooks/data_table.ipynb>data table notebook</a>'\n",
       "          + ' to learn more about interactive tables.';\n",
       "        element.innerHTML = '';\n",
       "        dataTable['output_type'] = 'display_data';\n",
       "        await google.colab.output.renderOutput(dataTable, element);\n",
       "        const docLink = document.createElement('div');\n",
       "        docLink.innerHTML = docLinkHtml;\n",
       "        element.appendChild(docLink);\n",
       "      }\n",
       "    </script>\n",
       "  </div>\n",
       "\n",
       "\n",
       "<div id=\"df-b302f168-9045-41c5-9c44-02dcb64fcd4a\">\n",
       "  <button class=\"colab-df-quickchart\" onclick=\"quickchart('df-b302f168-9045-41c5-9c44-02dcb64fcd4a')\"\n",
       "            title=\"Suggest charts\"\n",
       "            style=\"display:none;\">\n",
       "\n",
       "<svg xmlns=\"http://www.w3.org/2000/svg\" height=\"24px\"viewBox=\"0 0 24 24\"\n",
       "     width=\"24px\">\n",
       "    <g>\n",
       "        <path d=\"M19 3H5c-1.1 0-2 .9-2 2v14c0 1.1.9 2 2 2h14c1.1 0 2-.9 2-2V5c0-1.1-.9-2-2-2zM9 17H7v-7h2v7zm4 0h-2V7h2v10zm4 0h-2v-4h2v4z\"/>\n",
       "    </g>\n",
       "</svg>\n",
       "  </button>\n",
       "\n",
       "<style>\n",
       "  .colab-df-quickchart {\n",
       "      --bg-color: #E8F0FE;\n",
       "      --fill-color: #1967D2;\n",
       "      --hover-bg-color: #E2EBFA;\n",
       "      --hover-fill-color: #174EA6;\n",
       "      --disabled-fill-color: #AAA;\n",
       "      --disabled-bg-color: #DDD;\n",
       "  }\n",
       "\n",
       "  [theme=dark] .colab-df-quickchart {\n",
       "      --bg-color: #3B4455;\n",
       "      --fill-color: #D2E3FC;\n",
       "      --hover-bg-color: #434B5C;\n",
       "      --hover-fill-color: #FFFFFF;\n",
       "      --disabled-bg-color: #3B4455;\n",
       "      --disabled-fill-color: #666;\n",
       "  }\n",
       "\n",
       "  .colab-df-quickchart {\n",
       "    background-color: var(--bg-color);\n",
       "    border: none;\n",
       "    border-radius: 50%;\n",
       "    cursor: pointer;\n",
       "    display: none;\n",
       "    fill: var(--fill-color);\n",
       "    height: 32px;\n",
       "    padding: 0;\n",
       "    width: 32px;\n",
       "  }\n",
       "\n",
       "  .colab-df-quickchart:hover {\n",
       "    background-color: var(--hover-bg-color);\n",
       "    box-shadow: 0 1px 2px rgba(60, 64, 67, 0.3), 0 1px 3px 1px rgba(60, 64, 67, 0.15);\n",
       "    fill: var(--button-hover-fill-color);\n",
       "  }\n",
       "\n",
       "  .colab-df-quickchart-complete:disabled,\n",
       "  .colab-df-quickchart-complete:disabled:hover {\n",
       "    background-color: var(--disabled-bg-color);\n",
       "    fill: var(--disabled-fill-color);\n",
       "    box-shadow: none;\n",
       "  }\n",
       "\n",
       "  .colab-df-spinner {\n",
       "    border: 2px solid var(--fill-color);\n",
       "    border-color: transparent;\n",
       "    border-bottom-color: var(--fill-color);\n",
       "    animation:\n",
       "      spin 1s steps(1) infinite;\n",
       "  }\n",
       "\n",
       "  @keyframes spin {\n",
       "    0% {\n",
       "      border-color: transparent;\n",
       "      border-bottom-color: var(--fill-color);\n",
       "      border-left-color: var(--fill-color);\n",
       "    }\n",
       "    20% {\n",
       "      border-color: transparent;\n",
       "      border-left-color: var(--fill-color);\n",
       "      border-top-color: var(--fill-color);\n",
       "    }\n",
       "    30% {\n",
       "      border-color: transparent;\n",
       "      border-left-color: var(--fill-color);\n",
       "      border-top-color: var(--fill-color);\n",
       "      border-right-color: var(--fill-color);\n",
       "    }\n",
       "    40% {\n",
       "      border-color: transparent;\n",
       "      border-right-color: var(--fill-color);\n",
       "      border-top-color: var(--fill-color);\n",
       "    }\n",
       "    60% {\n",
       "      border-color: transparent;\n",
       "      border-right-color: var(--fill-color);\n",
       "    }\n",
       "    80% {\n",
       "      border-color: transparent;\n",
       "      border-right-color: var(--fill-color);\n",
       "      border-bottom-color: var(--fill-color);\n",
       "    }\n",
       "    90% {\n",
       "      border-color: transparent;\n",
       "      border-bottom-color: var(--fill-color);\n",
       "    }\n",
       "  }\n",
       "</style>\n",
       "\n",
       "  <script>\n",
       "    async function quickchart(key) {\n",
       "      const quickchartButtonEl =\n",
       "        document.querySelector('#' + key + ' button');\n",
       "      quickchartButtonEl.disabled = true;  // To prevent multiple clicks.\n",
       "      quickchartButtonEl.classList.add('colab-df-spinner');\n",
       "      try {\n",
       "        const charts = await google.colab.kernel.invokeFunction(\n",
       "            'suggestCharts', [key], {});\n",
       "      } catch (error) {\n",
       "        console.error('Error during call to suggestCharts:', error);\n",
       "      }\n",
       "      quickchartButtonEl.classList.remove('colab-df-spinner');\n",
       "      quickchartButtonEl.classList.add('colab-df-quickchart-complete');\n",
       "    }\n",
       "    (() => {\n",
       "      let quickchartButtonEl =\n",
       "        document.querySelector('#df-b302f168-9045-41c5-9c44-02dcb64fcd4a button');\n",
       "      quickchartButtonEl.style.display =\n",
       "        google.colab.kernel.accessAllowed ? 'block' : 'none';\n",
       "    })();\n",
       "  </script>\n",
       "</div>\n",
       "\n",
       "  <div id=\"id_c3d2b27a-be0f-4326-9c24-5853cb4717ac\">\n",
       "    <style>\n",
       "      .colab-df-generate {\n",
       "        background-color: #E8F0FE;\n",
       "        border: none;\n",
       "        border-radius: 50%;\n",
       "        cursor: pointer;\n",
       "        display: none;\n",
       "        fill: #1967D2;\n",
       "        height: 32px;\n",
       "        padding: 0 0 0 0;\n",
       "        width: 32px;\n",
       "      }\n",
       "\n",
       "      .colab-df-generate:hover {\n",
       "        background-color: #E2EBFA;\n",
       "        box-shadow: 0px 1px 2px rgba(60, 64, 67, 0.3), 0px 1px 3px 1px rgba(60, 64, 67, 0.15);\n",
       "        fill: #174EA6;\n",
       "      }\n",
       "\n",
       "      [theme=dark] .colab-df-generate {\n",
       "        background-color: #3B4455;\n",
       "        fill: #D2E3FC;\n",
       "      }\n",
       "\n",
       "      [theme=dark] .colab-df-generate:hover {\n",
       "        background-color: #434B5C;\n",
       "        box-shadow: 0px 1px 3px 1px rgba(0, 0, 0, 0.15);\n",
       "        filter: drop-shadow(0px 1px 2px rgba(0, 0, 0, 0.3));\n",
       "        fill: #FFFFFF;\n",
       "      }\n",
       "    </style>\n",
       "    <button class=\"colab-df-generate\" onclick=\"generateWithVariable('df')\"\n",
       "            title=\"Generate code using this dataframe.\"\n",
       "            style=\"display:none;\">\n",
       "\n",
       "  <svg xmlns=\"http://www.w3.org/2000/svg\" height=\"24px\"viewBox=\"0 0 24 24\"\n",
       "       width=\"24px\">\n",
       "    <path d=\"M7,19H8.4L18.45,9,17,7.55,7,17.6ZM5,21V16.75L18.45,3.32a2,2,0,0,1,2.83,0l1.4,1.43a1.91,1.91,0,0,1,.58,1.4,1.91,1.91,0,0,1-.58,1.4L9.25,21ZM18.45,9,17,7.55Zm-12,3A5.31,5.31,0,0,0,4.9,8.1,5.31,5.31,0,0,0,1,6.5,5.31,5.31,0,0,0,4.9,4.9,5.31,5.31,0,0,0,6.5,1,5.31,5.31,0,0,0,8.1,4.9,5.31,5.31,0,0,0,12,6.5,5.46,5.46,0,0,0,6.5,12Z\"/>\n",
       "  </svg>\n",
       "    </button>\n",
       "    <script>\n",
       "      (() => {\n",
       "      const buttonEl =\n",
       "        document.querySelector('#id_c3d2b27a-be0f-4326-9c24-5853cb4717ac button.colab-df-generate');\n",
       "      buttonEl.style.display =\n",
       "        google.colab.kernel.accessAllowed ? 'block' : 'none';\n",
       "\n",
       "      buttonEl.onclick = () => {\n",
       "        google.colab.notebook.generateWithVariable('df');\n",
       "      }\n",
       "      })();\n",
       "    </script>\n",
       "  </div>\n",
       "\n",
       "    </div>\n",
       "  </div>\n"
      ],
      "text/plain": [
       "                  Open        High         Low       Close   Adj Close  \\\n",
       "Date                                                                     \n",
       "1980-12-12    0.128348    0.128906    0.128348    0.128348    0.099058   \n",
       "1980-12-15    0.122210    0.122210    0.121652    0.121652    0.093890   \n",
       "1980-12-16    0.113281    0.113281    0.112723    0.112723    0.086999   \n",
       "1980-12-17    0.115513    0.116071    0.115513    0.115513    0.089152   \n",
       "1980-12-18    0.118862    0.119420    0.118862    0.118862    0.091737   \n",
       "...                ...         ...         ...         ...         ...   \n",
       "2024-05-13  185.440002  187.100006  184.619995  186.279999  186.279999   \n",
       "2024-05-14  187.509995  188.300003  186.289993  187.429993  187.429993   \n",
       "2024-05-15  187.910004  190.649994  187.369995  189.720001  189.720001   \n",
       "2024-05-16  190.470001  191.100006  189.660004  189.839996  189.839996   \n",
       "2024-05-17  189.380005  190.809998  189.220001  190.270004  190.270004   \n",
       "\n",
       "               Volume  \n",
       "Date                   \n",
       "1980-12-12  469033600  \n",
       "1980-12-15  175884800  \n",
       "1980-12-16  105728000  \n",
       "1980-12-17   86441600  \n",
       "1980-12-18   73449600  \n",
       "...               ...  \n",
       "2024-05-13   72044800  \n",
       "2024-05-14   52393600  \n",
       "2024-05-15   70400000  \n",
       "2024-05-16   52800800  \n",
       "2024-05-17    8789664  \n",
       "\n",
       "[10949 rows x 6 columns]"
      ]
     },
     "execution_count": 3,
     "metadata": {},
     "output_type": "execute_result"
    }
   ],
   "source": [
    "df=pdr.get_data_yahoo('AAPL')\n",
    "df"
   ]
  },
  {
   "cell_type": "code",
   "execution_count": 4,
   "id": "7c1ea627",
   "metadata": {
    "id": "7c1ea627"
   },
   "outputs": [],
   "source": [
    "# If we want to convert into csv for offline usage\n",
    "# df.to_csv('AAPL.csv')"
   ]
  },
  {
   "cell_type": "code",
   "execution_count": 5,
   "id": "aadaf84b",
   "metadata": {
    "id": "aadaf84b"
   },
   "outputs": [],
   "source": [
    "# For the close column , I will do the stock prediction, we can also try with others\n",
    "df1=df.reset_index()['Close']"
   ]
  },
  {
   "cell_type": "code",
   "execution_count": 6,
   "id": "5ed4e0c8",
   "metadata": {
    "colab": {
     "base_uri": "https://localhost:8080/"
    },
    "id": "5ed4e0c8",
    "outputId": "fd085f73-35d0-4248-b326-802d70921e26"
   },
   "outputs": [
    {
     "data": {
      "text/plain": [
       "0    0.128348\n",
       "1    0.121652\n",
       "2    0.112723\n",
       "3    0.115513\n",
       "4    0.118862\n",
       "Name: Close, dtype: float64"
      ]
     },
     "execution_count": 6,
     "metadata": {},
     "output_type": "execute_result"
    }
   ],
   "source": [
    "df1.head()"
   ]
  },
  {
   "cell_type": "code",
   "execution_count": 7,
   "id": "dd0e745e",
   "metadata": {
    "colab": {
     "base_uri": "https://localhost:8080/"
    },
    "id": "dd0e745e",
    "outputId": "904b888b-7cc7-429b-f77f-21aaa879a47c"
   },
   "outputs": [
    {
     "data": {
      "text/plain": [
       "(10949,)"
      ]
     },
     "execution_count": 7,
     "metadata": {},
     "output_type": "execute_result"
    }
   ],
   "source": [
    "df1.shape"
   ]
  },
  {
   "cell_type": "code",
   "execution_count": 8,
   "id": "746ce2af",
   "metadata": {
    "colab": {
     "base_uri": "https://localhost:8080/",
     "height": 256
    },
    "id": "746ce2af",
    "outputId": "184d6abe-d44b-4584-e5e1-4ca7fbfbfb90"
   },
   "outputs": [
    {
     "data": {
      "text/plain": [
       "<Axes: >"
      ]
     },
     "execution_count": 8,
     "metadata": {},
     "output_type": "execute_result"
    },
    {
     "data": {
      "image/png": "[encoded data removed]",
      "text/plain": [
       "<Figure size 1500x500 with 1 Axes>"
      ]
     },
     "metadata": {},
     "output_type": "display_data"
    }
   ],
   "source": [
    "import matplotlib.pyplot as plt\n",
    "df1.plot(figsize=(15,5))"
   ]
  },
  {
   "cell_type": "code",
   "execution_count": 9,
   "id": "b7d7af4f",
   "metadata": {
    "id": "b7d7af4f"
   },
   "outputs": [],
   "source": [
    "# LSTM Are very sensitive to the scale of the data, we should transform the valuesin a specif format\n",
    "# Here we will use min max scaler(Transform values between 0 and1 )\n",
    "import numpy as np"
   ]
  },
  {
   "cell_type": "code",
   "execution_count": 10,
   "id": "1dfbb8b1",
   "metadata": {
    "id": "1dfbb8b1"
   },
   "outputs": [],
   "source": [
    "from sklearn.preprocessing import MinMaxScaler\n",
    "scaler=MinMaxScaler(feature_range=(0,1))\n",
    "df1=scaler.fit_transform(np.array(df1).reshape(-1,1)) # Reshape :- It arranges the data in a new shape of fit_transform"
   ]
  },
  {
   "cell_type": "code",
   "execution_count": 11,
   "id": "a963d17c",
   "metadata": {
    "colab": {
     "base_uri": "https://localhost:8080/"
    },
    "id": "a963d17c",
    "outputId": "2693c558-33c4-4f82-a1c0-8994c1c96418"
   },
   "outputs": [
    {
     "data": {
      "text/plain": [
       "array([[4.00083990e-04],\n",
       "       [3.66276240e-04],\n",
       "       [3.21194149e-04],\n",
       "       ...,\n",
       "       [9.57639293e-01],\n",
       "       [9.58245143e-01],\n",
       "       [9.60416233e-01]])"
      ]
     },
     "execution_count": 11,
     "metadata": {},
     "output_type": "execute_result"
    }
   ],
   "source": [
    "df1"
   ]
  },
  {
   "cell_type": "code",
   "execution_count": 12,
   "id": "a0b08f70",
   "metadata": {
    "colab": {
     "base_uri": "https://localhost:8080/"
    },
    "id": "a0b08f70",
    "outputId": "0fa7cdd4-d708-4b14-b8b1-cb8505b83edf"
   },
   "outputs": [
    {
     "data": {
      "text/plain": [
       "(10949, 1)"
      ]
     },
     "execution_count": 12,
     "metadata": {},
     "output_type": "execute_result"
    }
   ],
   "source": [
    "df1.shape"
   ]
  },
  {
   "cell_type": "code",
   "execution_count": 13,
   "id": "10fc24fa",
   "metadata": {
    "id": "10fc24fa"
   },
   "outputs": [],
   "source": [
    "# Pre Process(Train and test split)\n",
    "# In time series data we will divide the data in a different way\n",
    "# In time series the values are increasing in a random way\n",
    "train_size=int(len(df1)*0.65) # train size=65%\n",
    "test_size=len(df1)-train_size # Test size=35%\n",
    "train_data,test_data=df1[0:train_size],df1[train_size:]"
   ]
  },
  {
   "cell_type": "code",
   "execution_count": 14,
   "id": "28f8c039",
   "metadata": {
    "colab": {
     "base_uri": "https://localhost:8080/"
    },
    "id": "28f8c039",
    "outputId": "70037980-5390-4e7d-e9b4-ae5a855792bd"
   },
   "outputs": [
    {
     "data": {
      "text/plain": [
       "(7116, 3833)"
      ]
     },
     "execution_count": 14,
     "metadata": {},
     "output_type": "execute_result"
    }
   ],
   "source": [
    "train_size,test_size"
   ]
  },
  {
   "cell_type": "code",
   "execution_count": 15,
   "id": "5bbf797c",
   "metadata": {
    "colab": {
     "base_uri": "https://localhost:8080/"
    },
    "id": "5bbf797c",
    "outputId": "f7084ea1-5b96-427f-f0fd-871c7d902fba"
   },
   "outputs": [
    {
     "data": {
      "text/plain": [
       "(7116, 3833)"
      ]
     },
     "execution_count": 15,
     "metadata": {},
     "output_type": "execute_result"
    }
   ],
   "source": [
    "len(train_data),len(test_data)"
   ]
  },
  {
   "cell_type": "code",
   "execution_count": 16,
   "id": "5fa72903",
   "metadata": {
    "id": "5fa72903"
   },
   "outputs": [],
   "source": [
    "# Time Steps : Suppose I want to compute next day output,How many previous day we have to consider\n",
    "# If my time step is 3 , then I will have take previous  3 features\n",
    "# It will shift one by one(f1,f2,f3 are my previous input and f4 is my output)\n",
    "# Then for one time stand shift 1 i.e. (f2,f3,f4 are my previous input and f5 is my output)\n",
    "# this will be present in both train and test data\n",
    "\n",
    "import numpy\n",
    "# Convert an array of values into dataset matrix\n",
    "def create_dataset(dataset,timestep):\n",
    "    datax,datay=[], []\n",
    "    for i in range (len(dataset)-timestep-1): # one less because of output\n",
    "        a=dataset[i:(i+timestep),0]  # In first iteration(0th iteration) , if my time stamp is 100 , then 0-99 will first record and 100 th will be my output\n",
    "        datax.append(a) # input will be stored here # xtrain\n",
    "        datay.append(dataset[i+timestep,0]) # Last value i.e. output will be stored # y_train # 0 th index\n",
    "    return numpy.array(datax),numpy.array(datay)\n",
    "# better time stand value , better it is"
   ]
  },
  {
   "cell_type": "code",
   "execution_count": 17,
   "id": "61993303",
   "metadata": {
    "id": "61993303"
   },
   "outputs": [],
   "source": [
    "# run it\n",
    "timestep=100\n",
    "x_train,y_train= create_dataset(train_data,timestep)\n",
    "x_test,y_test= create_dataset(test_data,timestep)"
   ]
  },
  {
   "cell_type": "code",
   "execution_count": 18,
   "id": "19863d0a",
   "metadata": {
    "colab": {
     "base_uri": "https://localhost:8080/"
    },
    "id": "19863d0a",
    "outputId": "1b29b150-2d2f-417d-e3bc-b106b30b3a95"
   },
   "outputs": [
    {
     "data": {
      "text/plain": [
       "((7015, 100), (7015,))"
      ]
     },
     "execution_count": 18,
     "metadata": {},
     "output_type": "execute_result"
    }
   ],
   "source": [
    "x_train.shape,y_train.shape"
   ]
  },
  {
   "cell_type": "code",
   "execution_count": 19,
   "id": "e7c62e10",
   "metadata": {
    "colab": {
     "base_uri": "https://localhost:8080/"
    },
    "id": "e7c62e10",
    "outputId": "da20ca45-b583-4e74-eac9-378ac0f22c29"
   },
   "outputs": [
    {
     "data": {
      "text/plain": [
       "((7015, 100), (7015,))"
      ]
     },
     "execution_count": 19,
     "metadata": {},
     "output_type": "execute_result"
    }
   ],
   "source": [
    "x_train.shape,y_train.shape"
   ]
  },
  {
   "cell_type": "code",
   "execution_count": 20,
   "id": "38aae372",
   "metadata": {
    "id": "38aae372"
   },
   "outputs": [],
   "source": [
    "# Create a stack Lstm model\n",
    "# Always Reshape our  x (both train and test) to convert to 3d by adding 1 at last\n",
    "x_train=x_train.reshape(x_train.shape[0],x_train.shape[1],1) # (7015, 100,1)\n",
    "x_test=x_test.reshape(x_test.shape[0],x_test.shape[1],1) # (3731, 100,1)"
   ]
  },
  {
   "cell_type": "code",
   "execution_count": 21,
   "id": "0866870b",
   "metadata": {
    "colab": {
     "base_uri": "https://localhost:8080/"
    },
    "id": "0866870b",
    "outputId": "1b09c984-aeed-479e-ab45-122edd1e8b7b"
   },
   "outputs": [
    {
     "data": {
      "text/plain": [
       "((7015, 100, 1), (7015, 100, 1))"
      ]
     },
     "execution_count": 21,
     "metadata": {},
     "output_type": "execute_result"
    }
   ],
   "source": [
    "x_train.shape,x_train.shape,"
   ]
  },
  {
   "cell_type": "code",
   "execution_count": 22,
   "id": "9e01edae",
   "metadata": {
    "id": "9e01edae"
   },
   "outputs": [],
   "source": [
    "### Create  the Stacked LSTM Model(one lstm after that one lstm)\n",
    "from tensorflow.keras.models import Sequential\n",
    "from tensorflow.keras.layers import Dense\n",
    "from tensorflow.keras.layers import LSTM"
   ]
  },
  {
   "cell_type": "code",
   "execution_count": 23,
   "id": "6143da95",
   "metadata": {
    "id": "6143da95"
   },
   "outputs": [],
   "source": [
    "model=Sequential()\n",
    "model.add(LSTM(50,return_sequences=True,input_shape=(100,1)))\n",
    "model.add(LSTM(50,return_sequences=True))\n",
    "model.add(LSTM(50))\n",
    "model.add(Dense(1))\n",
    "model.compile(loss='mean_squared_error',optimizer='adam',metrics=['accuracy'])\n"
   ]
  },
  {
   "cell_type": "code",
   "execution_count": 24,
   "id": "8e7e4ec7",
   "metadata": {
    "colab": {
     "base_uri": "https://localhost:8080/"
    },
    "id": "8e7e4ec7",
    "outputId": "444a6055-cfb0-497e-a706-298515d8709c"
   },
   "outputs": [
    {
     "name": "stdout",
     "output_type": "stream",
     "text": [
      "Model: \"sequential\"\n",
      "_________________________________________________________________\n",
      " Layer (type)                Output Shape              Param #   \n",
      "=================================================================\n",
      " lstm (LSTM)                 (None, 100, 50)           10400     \n",
      "                                                                 \n",
      " lstm_1 (LSTM)               (None, 100, 50)           20200     \n",
      "                                                                 \n",
      " lstm_2 (LSTM)               (None, 50)                20200     \n",
      "                                                                 \n",
      " dense (Dense)               (None, 1)                 51        \n",
      "                                                                 \n",
      "=================================================================\n",
      "Total params: 50851 (198.64 KB)\n",
      "Trainable params: 50851 (198.64 KB)\n",
      "Non-trainable params: 0 (0.00 Byte)\n",
      "_________________________________________________________________\n"
     ]
    }
   ],
   "source": [
    "model.summary()"
   ]
  },
  {
   "cell_type": "code",
   "execution_count": 25,
   "id": "duqJ0c3g4gPR",
   "metadata": {
    "id": "duqJ0c3g4gPR"
   },
   "outputs": [],
   "source": [
    "import tensorflow as tf"
   ]
  },
  {
   "cell_type": "code",
   "execution_count": 26,
   "id": "GMbZasaK5lhj",
   "metadata": {
    "id": "GMbZasaK5lhj"
   },
   "outputs": [],
   "source": [
    "# Early stopping ## copy from keras documentation and play with data\n",
    "\n",
    "import tensorflow as tf\n",
    "early_stopping=tf.keras.callbacks.EarlyStopping(\n",
    "    monitor=\"val_loss\",\n",
    "    min_delta=0.0001,\n",
    "    patience=20,\n",
    "    verbose=1,\n",
    "    mode=\"auto\",\n",
    "    baseline=None,\n",
    "    restore_best_weights=False,\n",
    ")\n"
   ]
  },
  {
   "cell_type": "code",
   "execution_count": 29,
   "id": "f5786da5",
   "metadata": {
    "colab": {
     "base_uri": "https://localhost:8080/"
    },
    "id": "f5786da5",
    "outputId": "b9db2028-52ce-49c3-cc1a-5dc08e76a68d"
   },
   "outputs": [
    {
     "name": "stdout",
     "output_type": "stream",
     "text": [
      "Epoch 1/10\n",
      "110/110 [==============================] - 25s 224ms/step - loss: 5.1871e-07 - accuracy: 1.4255e-04 - val_loss: 0.0057 - val_accuracy: 2.6795e-04\n",
      "Epoch 2/10\n",
      "110/110 [==============================] - 23s 213ms/step - loss: 5.8016e-07 - accuracy: 1.4255e-04 - val_loss: 0.0108 - val_accuracy: 2.6795e-04\n",
      "Epoch 3/10\n",
      "110/110 [==============================] - 24s 218ms/step - loss: 5.8972e-07 - accuracy: 1.4255e-04 - val_loss: 0.0071 - val_accuracy: 2.6795e-04\n",
      "Epoch 4/10\n",
      "110/110 [==============================] - 23s 214ms/step - loss: 4.8483e-07 - accuracy: 1.4255e-04 - val_loss: 0.0064 - val_accuracy: 2.6795e-04\n",
      "Epoch 5/10\n",
      "110/110 [==============================] - 25s 225ms/step - loss: 4.7975e-07 - accuracy: 1.4255e-04 - val_loss: 0.0064 - val_accuracy: 2.6795e-04\n",
      "Epoch 6/10\n",
      "110/110 [==============================] - 24s 218ms/step - loss: 4.9237e-07 - accuracy: 1.4255e-04 - val_loss: 0.0073 - val_accuracy: 2.6795e-04\n",
      "Epoch 7/10\n",
      "110/110 [==============================] - 33s 304ms/step - loss: 5.3966e-07 - accuracy: 1.4255e-04 - val_loss: 0.0041 - val_accuracy: 2.6795e-04\n",
      "Epoch 8/10\n",
      "110/110 [==============================] - 24s 223ms/step - loss: 4.3574e-07 - accuracy: 1.4255e-04 - val_loss: 0.0040 - val_accuracy: 2.6795e-04\n",
      "Epoch 9/10\n",
      "110/110 [==============================] - 23s 205ms/step - loss: 3.8841e-07 - accuracy: 1.4255e-04 - val_loss: 0.0069 - val_accuracy: 2.6795e-04\n",
      "Epoch 10/10\n",
      "110/110 [==============================] - 25s 225ms/step - loss: 4.5525e-07 - accuracy: 1.4255e-04 - val_loss: 0.0066 - val_accuracy: 2.6795e-04\n"
     ]
    },
    {
     "data": {
      "text/plain": [
       "<keras.src.callbacks.History at 0x7828ed5aa710>"
      ]
     },
     "execution_count": 29,
     "metadata": {},
     "output_type": "execute_result"
    }
   ],
   "source": [
    "model.fit(x_train,y_train,validation_data=(x_test,y_test),epochs=10,batch_size=64,verbose=1)\n",
    "# try with 100 epoch\n",
    "# Minimize the loss"
   ]
  },
  {
   "cell_type": "code",
   "execution_count": 30,
   "id": "2156f0bf",
   "metadata": {
    "colab": {
     "base_uri": "https://localhost:8080/"
    },
    "id": "2156f0bf",
    "outputId": "86ff9d8a-8409-49fa-db1a-3bb96439da2b"
   },
   "outputs": [
    {
     "name": "stdout",
     "output_type": "stream",
     "text": [
      "220/220 [==============================] - 11s 44ms/step\n",
      "117/117 [==============================] - 4s 38ms/step\n"
     ]
    }
   ],
   "source": [
    "# Lets Do the Prediction and check performance metrics\n",
    "train_predict=model.predict(x_train)\n",
    "test_predict=model.predict(x_test)"
   ]
  },
  {
   "cell_type": "code",
   "execution_count": 32,
   "id": "61e23f2f",
   "metadata": {
    "id": "61e23f2f"
   },
   "outputs": [],
   "source": [
    "# Transforming to original form\n",
    "train_predict=scaler.inverse_transform(train_predict)\n",
    "test_predict=scaler.inverse_transform(test_predict)"
   ]
  },
  {
   "cell_type": "code",
   "execution_count": 38,
   "id": "XI--ojN-8PYD",
   "metadata": {
    "colab": {
     "base_uri": "https://localhost:8080/"
    },
    "id": "XI--ojN-8PYD",
    "outputId": "f1bb8086-0a89-4478-d87a-db52ac0798af"
   },
   "outputs": [
    {
     "data": {
      "text/plain": [
       "1.4473298221515762"
      ]
     },
     "execution_count": 38,
     "metadata": {},
     "output_type": "execute_result"
    }
   ],
   "source": [
    "# Calculate the RMSE(Root mean squared error) and Performance Metrics\n",
    "import math\n",
    "from sklearn.metrics import mean_squared_error\n",
    "math.sqrt(mean_squared_error(train_predict,y_train))\n",
    "# train more"
   ]
  },
  {
   "cell_type": "code",
   "execution_count": 36,
   "id": "LAMf01gD82sy",
   "metadata": {
    "colab": {
     "base_uri": "https://localhost:8080/"
    },
    "id": "LAMf01gD82sy",
    "outputId": "c304b019-edee-4d47-cc40-1655e43fb73c"
   },
   "outputs": [
    {
     "data": {
      "text/plain": [
       "68.75452968781106"
      ]
     },
     "execution_count": 36,
     "metadata": {},
     "output_type": "execute_result"
    }
   ],
   "source": [
    "# Test Data RMSE\n",
    "math.sqrt(mean_squared_error(test_predict,y_test))"
   ]
  },
  {
   "cell_type": "code",
   "execution_count": 52,
   "id": "7uWDnkR690OO",
   "metadata": {
    "colab": {
     "base_uri": "https://localhost:8080/",
     "height": 238
    },
    "id": "7uWDnkR690OO",
    "outputId": "1c14fe8c-1f41-45be-8b89-e4eaa1e1cd5d"
   },
   "outputs": [
    {
     "data": {
      "image/png": "[encoded data removed]",
      "text/plain": [
       "<Figure size 1500x500 with 1 Axes>"
      ]
     },
     "metadata": {},
     "output_type": "display_data"
    }
   ],
   "source": [
    "### Ploting\n",
    "\n",
    "# shift train predictions for plotting\n",
    "look_back=100\n",
    "trainPredictPlot=numpy.empty_like(df1)\n",
    "trainPredictPlot[:,:]=np.nan\n",
    "trainPredictPlot[look_back:len(train_predict)+look_back,:] =train_predict\n",
    "\n",
    "# Shift test prediction for plotting\n",
    "\n",
    "testPredictPlot=numpy.empty_like(df1)\n",
    "testPredictPlot[:,:]=np.nan\n",
    "testPredictPlot[len(train_predict)+(look_back*2)+1:len(df1)-1,:] =test_predict\n",
    "\n",
    "# Plot baseline and prediction\n",
    "plt.plot(scaler.inverse_transform(df1)) # Very important\n",
    "plt.plot(trainPredictPlot)\n",
    "plt.plot(testPredictPlot)\n",
    "plt.show()\n",
    "plt.rcParams[\"figure.figsize\"]=(15,5)\n",
    "\n",
    "# Green Color = the predicted data(output for the test data)\n",
    "# Blue Color = complete data set\n",
    "# Yellow Color = training data\n",
    "\n",
    "\n"
   ]
  },
  {
   "cell_type": "code",
   "execution_count": 53,
   "id": "YT32EpDf825Z",
   "metadata": {
    "colab": {
     "base_uri": "https://localhost:8080/"
    },
    "id": "YT32EpDf825Z",
    "outputId": "07e07c91-80e9-4739-d1c0-373fe6f5cad1"
   },
   "outputs": [
    {
     "data": {
      "text/plain": [
       "3833"
      ]
     },
     "execution_count": 53,
     "metadata": {},
     "output_type": "execute_result"
    }
   ],
   "source": [
    "# Predict For the next 30 days\n",
    "len(test_data) #I have to take the previous 100 days data to predict"
   ]
  },
  {
   "cell_type": "code",
   "execution_count": 54,
   "id": "ThcDybKe828A",
   "metadata": {
    "colab": {
     "base_uri": "https://localhost:8080/"
    },
    "id": "ThcDybKe828A",
    "outputId": "29a0770f-845f-41c6-baf8-8e03f7be0c62"
   },
   "outputs": [
    {
     "data": {
      "text/plain": [
       "(1, 100)"
      ]
     },
     "execution_count": 54,
     "metadata": {},
     "output_type": "execute_result"
    }
   ],
   "source": [
    "# Takingthe previous 100 days data\n",
    "x_input=test_data[3733:].reshape(1,-1)\n",
    "x_input.shape"
   ]
  },
  {
   "cell_type": "code",
   "execution_count": 56,
   "id": "zKTyUSWUGVbd",
   "metadata": {
    "id": "zKTyUSWUGVbd"
   },
   "outputs": [],
   "source": [
    "# Convert to a list\n",
    "temp_input=list(x_input)\n",
    "temp_input=temp_input[0].tolist()"
   ]
  },
  {
   "cell_type": "code",
   "execution_count": 57,
   "id": "M_KecW8EG8fV",
   "metadata": {
    "colab": {
     "base_uri": "https://localhost:8080/"
    },
    "id": "M_KecW8EG8fV",
    "outputId": "7e8ee507-6a67-4869-b7a4-8654dbae4bf4"
   },
   "outputs": [
    {
     "data": {
      "text/plain": [
       "[0.9744523137992386,\n",
       " 0.9749571628025122,\n",
       " 0.9771282523433722,\n",
       " 0.9718268370431629,\n",
       " 0.9370395589285275,\n",
       " 0.9300215183435717,\n",
       " 0.9182069885025781,\n",
       " 0.9145211978701016,\n",
       " 0.9366356335013699,\n",
       " 0.9345150827894658,\n",
       " 0.939816498089675,\n",
       " 0.9367870959064418,\n",
       " 0.9384532594031303,\n",
       " 0.9268911925842225,\n",
       " 0.9220946262872869,\n",
       " 0.9521359539748402,\n",
       " 0.9669293471701113,\n",
       " 0.9786934152230469,\n",
       " 0.9852065297638312,\n",
       " 0.9817732791943381,\n",
       " 0.9801071156976496,\n",
       " 0.9712714492109334,\n",
       " 0.9677876598124845,\n",
       " 0.949157013579665,\n",
       " 0.9307788303689312,\n",
       " 0.9431992868711101,\n",
       " 0.9380998728049286,\n",
       " 0.9473393876779046,\n",
       " 0.9555187427562752,\n",
       " 0.9560741305885048,\n",
       " 0.9505707910951655,\n",
       " 0.9532467296392992,\n",
       " 0.9446634491337709,\n",
       " 0.9340101567452943,\n",
       " 0.9295165922994003,\n",
       " 0.9280524300367394,\n",
       " 0.9202265385974684,\n",
       " 0.9164398243888757,\n",
       " 0.9202770774264243,\n",
       " 0.9306273679638593,\n",
       " 0.9212868524738694,\n",
       " 0.9144202742939854,\n",
       " 0.9218422403060988,\n",
       " 0.9157329741515744,\n",
       " 0.9123501853701393,\n",
       " 0.9068468458768001,\n",
       " 0.8838236358151004,\n",
       " 0.8586797980005987,\n",
       " 0.8536308457224752,\n",
       " 0.8530249961021876,\n",
       " 0.86175966197189,\n",
       " 0.871958567145151,\n",
       " 0.8743820426671989,\n",
       " 0.8637792891076781,\n",
       " 0.8732208052146818,\n",
       " 0.8713021786959076,\n",
       " 0.8768560570182026,\n",
       " 0.8887715874762101,\n",
       " 0.9018483553867346,\n",
       " 0.8649909883482532,\n",
       " 0.8695855534111611,\n",
       " 0.8623655886330753,\n",
       " 0.8566097861176504,\n",
       " 0.8747859680943565,\n",
       " 0.8655463761804827,\n",
       " 0.8582254107853831,\n",
       " 0.8522171452478724,\n",
       " 0.8563067842666089,\n",
       " 0.8521162216717564,\n",
       " 0.8559533976684071,\n",
       " 0.8502480569410401,\n",
       " 0.8564077848836227,\n",
       " 0.8468652681596051,\n",
       " 0.8835206339640589,\n",
       " 0.8911446012102,\n",
       " 0.8716556423350071,\n",
       " 0.8549436226209619,\n",
       " 0.8479760438240641,\n",
       " 0.8431290157390705,\n",
       " 0.8328291869896934,\n",
       " 0.8370702884135017,\n",
       " 0.8424221655017691,\n",
       " 0.8531259967192015,\n",
       " 0.8575185605480817,\n",
       " 0.8545396971938043,\n",
       " 0.8757452813537436,\n",
       " 0.8597401118769997,\n",
       " 0.8545396971938043,\n",
       " 0.8733722676197537,\n",
       " 0.9256289545146915,\n",
       " 0.9171972134551329,\n",
       " 0.9206809258126841,\n",
       " 0.9223976281383284,\n",
       " 0.9316372200522023,\n",
       " 0.923962791018003,\n",
       " 0.9402708853048908,\n",
       " 0.9460771496083736,\n",
       " 0.9576392934681793,\n",
       " 0.9582451430884669,\n",
       " 0.9604162326293268]"
      ]
     },
     "execution_count": 57,
     "metadata": {},
     "output_type": "execute_result"
    }
   ],
   "source": [
    "temp_input # (previous 100 days data of test data)"
   ]
  },
  {
   "cell_type": "code",
   "execution_count": 67,
   "id": "OuBxmQR1HTRS",
   "metadata": {
    "colab": {
     "base_uri": "https://localhost:8080/"
    },
    "id": "OuBxmQR1HTRS",
    "outputId": "6dfb02ad-e65f-420e-c685-bd6d9232bcfc"
   },
   "outputs": [
    {
     "name": "stdout",
     "output_type": "stream",
     "text": [
      " 0 day input [0.91719721 0.92068093 0.92239763 0.93163722 0.92396279 0.94027089\n",
      " 0.94607715 0.95763929 0.95824514 0.96041623 0.71875846 0.71902382\n",
      " 0.71472311 0.70619941 0.69434339 0.6801526  0.66451842 0.64814842\n",
      " 0.63155884 0.61509913 0.5989905  0.58335841 0.56826591 0.553734\n",
      " 0.53976029 0.52632928 0.51341969 0.5010078  0.48907027 0.47758517\n",
      " 0.46653137 0.4558897  0.44564214 0.43577161 0.42626163 0.41709685\n",
      " 0.40826261 0.39974451 0.39152914 0.3836033  0.3759543  0.36857009\n",
      " 0.36143923 0.35455072 0.34789392 0.34145859 0.33523527 0.32921463\n",
      " 0.32338783 0.31774682 0.31228316 0.30698961 0.30185863 0.2968834\n",
      " 0.29205731 0.2873742  0.28282794 0.27841288 0.27412355 0.26995489\n",
      " 0.26590189 0.26195982 0.25812432 0.25439107 0.25075608 0.24721538\n",
      " 0.24376537 0.24040256 0.23712361 0.23392525 0.23080453 0.22775857\n",
      " 0.22478452 0.22187982 0.21904205 0.2162686  0.21355733 0.21090598\n",
      " 0.20831259 0.2057751  0.20329155 0.20086017 0.19847924 0.1961471\n",
      " 0.19386217 0.19162287 0.18942773 0.1872755  0.18516469 0.18309408\n",
      " 0.18106245 0.17906861 0.17711137 0.17518982 0.17330271 0.17144917\n",
      " 0.1696282  0.16783893 0.16608039 0.16435182]\n",
      " 0 day output [[0.1626523]]\n",
      " 1 day input [0.92068093 0.92239763 0.93163722 0.92396279 0.94027089 0.94607715\n",
      " 0.95763929 0.95824514 0.96041623 0.71875846 0.71902382 0.71472311\n",
      " 0.70619941 0.69434339 0.6801526  0.66451842 0.64814842 0.63155884\n",
      " 0.61509913 0.5989905  0.58335841 0.56826591 0.553734   0.53976029\n",
      " 0.52632928 0.51341969 0.5010078  0.48907027 0.47758517 0.46653137\n",
      " 0.4558897  0.44564214 0.43577161 0.42626163 0.41709685 0.40826261\n",
      " 0.39974451 0.39152914 0.3836033  0.3759543  0.36857009 0.36143923\n",
      " 0.35455072 0.34789392 0.34145859 0.33523527 0.32921463 0.32338783\n",
      " 0.31774682 0.31228316 0.30698961 0.30185863 0.2968834  0.29205731\n",
      " 0.2873742  0.28282794 0.27841288 0.27412355 0.26995489 0.26590189\n",
      " 0.26195982 0.25812432 0.25439107 0.25075608 0.24721538 0.24376537\n",
      " 0.24040256 0.23712361 0.23392525 0.23080453 0.22775857 0.22478452\n",
      " 0.22187982 0.21904205 0.2162686  0.21355733 0.21090598 0.20831259\n",
      " 0.2057751  0.20329155 0.20086017 0.19847924 0.1961471  0.19386217\n",
      " 0.19162287 0.18942773 0.1872755  0.18516469 0.18309408 0.18106245\n",
      " 0.17906861 0.17711137 0.17518982 0.17330271 0.17144917 0.1696282\n",
      " 0.16783893 0.16608039 0.16435182 0.1626523 ]\n",
      " 1 day output [[0.16098109]]\n",
      " 2 day input [0.92239763 0.93163722 0.92396279 0.94027089 0.94607715 0.95763929\n",
      " 0.95824514 0.96041623 0.71875846 0.71902382 0.71472311 0.70619941\n",
      " 0.69434339 0.6801526  0.66451842 0.64814842 0.63155884 0.61509913\n",
      " 0.5989905  0.58335841 0.56826591 0.553734   0.53976029 0.52632928\n",
      " 0.51341969 0.5010078  0.48907027 0.47758517 0.46653137 0.4558897\n",
      " 0.44564214 0.43577161 0.42626163 0.41709685 0.40826261 0.39974451\n",
      " 0.39152914 0.3836033  0.3759543  0.36857009 0.36143923 0.35455072\n",
      " 0.34789392 0.34145859 0.33523527 0.32921463 0.32338783 0.31774682\n",
      " 0.31228316 0.30698961 0.30185863 0.2968834  0.29205731 0.2873742\n",
      " 0.28282794 0.27841288 0.27412355 0.26995489 0.26590189 0.26195982\n",
      " 0.25812432 0.25439107 0.25075608 0.24721538 0.24376537 0.24040256\n",
      " 0.23712361 0.23392525 0.23080453 0.22775857 0.22478452 0.22187982\n",
      " 0.21904205 0.2162686  0.21355733 0.21090598 0.20831259 0.2057751\n",
      " 0.20329155 0.20086017 0.19847924 0.1961471  0.19386217 0.19162287\n",
      " 0.18942773 0.1872755  0.18516469 0.18309408 0.18106245 0.17906861\n",
      " 0.17711137 0.17518982 0.17330271 0.17144917 0.1696282  0.16783893\n",
      " 0.16608039 0.16435182 0.1626523  0.16098109]\n",
      " 2 day output [[0.15933743]]\n",
      " 3 day input [0.93163722 0.92396279 0.94027089 0.94607715 0.95763929 0.95824514\n",
      " 0.96041623 0.71875846 0.71902382 0.71472311 0.70619941 0.69434339\n",
      " 0.6801526  0.66451842 0.64814842 0.63155884 0.61509913 0.5989905\n",
      " 0.58335841 0.56826591 0.553734   0.53976029 0.52632928 0.51341969\n",
      " 0.5010078  0.48907027 0.47758517 0.46653137 0.4558897  0.44564214\n",
      " 0.43577161 0.42626163 0.41709685 0.40826261 0.39974451 0.39152914\n",
      " 0.3836033  0.3759543  0.36857009 0.36143923 0.35455072 0.34789392\n",
      " 0.34145859 0.33523527 0.32921463 0.32338783 0.31774682 0.31228316\n",
      " 0.30698961 0.30185863 0.2968834  0.29205731 0.2873742  0.28282794\n",
      " 0.27841288 0.27412355 0.26995489 0.26590189 0.26195982 0.25812432\n",
      " 0.25439107 0.25075608 0.24721538 0.24376537 0.24040256 0.23712361\n",
      " 0.23392525 0.23080453 0.22775857 0.22478452 0.22187982 0.21904205\n",
      " 0.2162686  0.21355733 0.21090598 0.20831259 0.2057751  0.20329155\n",
      " 0.20086017 0.19847924 0.1961471  0.19386217 0.19162287 0.18942773\n",
      " 0.1872755  0.18516469 0.18309408 0.18106245 0.17906861 0.17711137\n",
      " 0.17518982 0.17330271 0.17144917 0.1696282  0.16783893 0.16608039\n",
      " 0.16435182 0.1626523  0.16098109 0.15933743]\n",
      " 3 day output [[0.15772058]]\n",
      " 4 day input [0.92396279 0.94027089 0.94607715 0.95763929 0.95824514 0.96041623\n",
      " 0.71875846 0.71902382 0.71472311 0.70619941 0.69434339 0.6801526\n",
      " 0.66451842 0.64814842 0.63155884 0.61509913 0.5989905  0.58335841\n",
      " 0.56826591 0.553734   0.53976029 0.52632928 0.51341969 0.5010078\n",
      " 0.48907027 0.47758517 0.46653137 0.4558897  0.44564214 0.43577161\n",
      " 0.42626163 0.41709685 0.40826261 0.39974451 0.39152914 0.3836033\n",
      " 0.3759543  0.36857009 0.36143923 0.35455072 0.34789392 0.34145859\n",
      " 0.33523527 0.32921463 0.32338783 0.31774682 0.31228316 0.30698961\n",
      " 0.30185863 0.2968834  0.29205731 0.2873742  0.28282794 0.27841288\n",
      " 0.27412355 0.26995489 0.26590189 0.26195982 0.25812432 0.25439107\n",
      " 0.25075608 0.24721538 0.24376537 0.24040256 0.23712361 0.23392525\n",
      " 0.23080453 0.22775857 0.22478452 0.22187982 0.21904205 0.2162686\n",
      " 0.21355733 0.21090598 0.20831259 0.2057751  0.20329155 0.20086017\n",
      " 0.19847924 0.1961471  0.19386217 0.19162287 0.18942773 0.1872755\n",
      " 0.18516469 0.18309408 0.18106245 0.17906861 0.17711137 0.17518982\n",
      " 0.17330271 0.17144917 0.1696282  0.16783893 0.16608039 0.16435182\n",
      " 0.1626523  0.16098109 0.15933743 0.15772058]\n",
      " 4 day output [[0.15612987]]\n",
      " 5 day input [0.94027089 0.94607715 0.95763929 0.95824514 0.96041623 0.71875846\n",
      " 0.71902382 0.71472311 0.70619941 0.69434339 0.6801526  0.66451842\n",
      " 0.64814842 0.63155884 0.61509913 0.5989905  0.58335841 0.56826591\n",
      " 0.553734   0.53976029 0.52632928 0.51341969 0.5010078  0.48907027\n",
      " 0.47758517 0.46653137 0.4558897  0.44564214 0.43577161 0.42626163\n",
      " 0.41709685 0.40826261 0.39974451 0.39152914 0.3836033  0.3759543\n",
      " 0.36857009 0.36143923 0.35455072 0.34789392 0.34145859 0.33523527\n",
      " 0.32921463 0.32338783 0.31774682 0.31228316 0.30698961 0.30185863\n",
      " 0.2968834  0.29205731 0.2873742  0.28282794 0.27841288 0.27412355\n",
      " 0.26995489 0.26590189 0.26195982 0.25812432 0.25439107 0.25075608\n",
      " 0.24721538 0.24376537 0.24040256 0.23712361 0.23392525 0.23080453\n",
      " 0.22775857 0.22478452 0.22187982 0.21904205 0.2162686  0.21355733\n",
      " 0.21090598 0.20831259 0.2057751  0.20329155 0.20086017 0.19847924\n",
      " 0.1961471  0.19386217 0.19162287 0.18942773 0.1872755  0.18516469\n",
      " 0.18309408 0.18106245 0.17906861 0.17711137 0.17518982 0.17330271\n",
      " 0.17144917 0.1696282  0.16783893 0.16608039 0.16435182 0.1626523\n",
      " 0.16098109 0.15933743 0.15772058 0.15612987]\n",
      " 5 day output [[0.1545646]]\n",
      " 6 day input [0.94607715 0.95763929 0.95824514 0.96041623 0.71875846 0.71902382\n",
      " 0.71472311 0.70619941 0.69434339 0.6801526  0.66451842 0.64814842\n",
      " 0.63155884 0.61509913 0.5989905  0.58335841 0.56826591 0.553734\n",
      " 0.53976029 0.52632928 0.51341969 0.5010078  0.48907027 0.47758517\n",
      " 0.46653137 0.4558897  0.44564214 0.43577161 0.42626163 0.41709685\n",
      " 0.40826261 0.39974451 0.39152914 0.3836033  0.3759543  0.36857009\n",
      " 0.36143923 0.35455072 0.34789392 0.34145859 0.33523527 0.32921463\n",
      " 0.32338783 0.31774682 0.31228316 0.30698961 0.30185863 0.2968834\n",
      " 0.29205731 0.2873742  0.28282794 0.27841288 0.27412355 0.26995489\n",
      " 0.26590189 0.26195982 0.25812432 0.25439107 0.25075608 0.24721538\n",
      " 0.24376537 0.24040256 0.23712361 0.23392525 0.23080453 0.22775857\n",
      " 0.22478452 0.22187982 0.21904205 0.2162686  0.21355733 0.21090598\n",
      " 0.20831259 0.2057751  0.20329155 0.20086017 0.19847924 0.1961471\n",
      " 0.19386217 0.19162287 0.18942773 0.1872755  0.18516469 0.18309408\n",
      " 0.18106245 0.17906861 0.17711137 0.17518982 0.17330271 0.17144917\n",
      " 0.1696282  0.16783893 0.16608039 0.16435182 0.1626523  0.16098109\n",
      " 0.15933743 0.15772058 0.15612987 0.1545646 ]\n",
      " 6 day output [[0.15302409]]\n",
      " 7 day input [0.95763929 0.95824514 0.96041623 0.71875846 0.71902382 0.71472311\n",
      " 0.70619941 0.69434339 0.6801526  0.66451842 0.64814842 0.63155884\n",
      " 0.61509913 0.5989905  0.58335841 0.56826591 0.553734   0.53976029\n",
      " 0.52632928 0.51341969 0.5010078  0.48907027 0.47758517 0.46653137\n",
      " 0.4558897  0.44564214 0.43577161 0.42626163 0.41709685 0.40826261\n",
      " 0.39974451 0.39152914 0.3836033  0.3759543  0.36857009 0.36143923\n",
      " 0.35455072 0.34789392 0.34145859 0.33523527 0.32921463 0.32338783\n",
      " 0.31774682 0.31228316 0.30698961 0.30185863 0.2968834  0.29205731\n",
      " 0.2873742  0.28282794 0.27841288 0.27412355 0.26995489 0.26590189\n",
      " 0.26195982 0.25812432 0.25439107 0.25075608 0.24721538 0.24376537\n",
      " 0.24040256 0.23712361 0.23392525 0.23080453 0.22775857 0.22478452\n",
      " 0.22187982 0.21904205 0.2162686  0.21355733 0.21090598 0.20831259\n",
      " 0.2057751  0.20329155 0.20086017 0.19847924 0.1961471  0.19386217\n",
      " 0.19162287 0.18942773 0.1872755  0.18516469 0.18309408 0.18106245\n",
      " 0.17906861 0.17711137 0.17518982 0.17330271 0.17144917 0.1696282\n",
      " 0.16783893 0.16608039 0.16435182 0.1626523  0.16098109 0.15933743\n",
      " 0.15772058 0.15612987 0.1545646  0.15302409]\n",
      " 7 day output [[0.15150774]]\n",
      " 8 day input [0.95824514 0.96041623 0.71875846 0.71902382 0.71472311 0.70619941\n",
      " 0.69434339 0.6801526  0.66451842 0.64814842 0.63155884 0.61509913\n",
      " 0.5989905  0.58335841 0.56826591 0.553734   0.53976029 0.52632928\n",
      " 0.51341969 0.5010078  0.48907027 0.47758517 0.46653137 0.4558897\n",
      " 0.44564214 0.43577161 0.42626163 0.41709685 0.40826261 0.39974451\n",
      " 0.39152914 0.3836033  0.3759543  0.36857009 0.36143923 0.35455072\n",
      " 0.34789392 0.34145859 0.33523527 0.32921463 0.32338783 0.31774682\n",
      " 0.31228316 0.30698961 0.30185863 0.2968834  0.29205731 0.2873742\n",
      " 0.28282794 0.27841288 0.27412355 0.26995489 0.26590189 0.26195982\n",
      " 0.25812432 0.25439107 0.25075608 0.24721538 0.24376537 0.24040256\n",
      " 0.23712361 0.23392525 0.23080453 0.22775857 0.22478452 0.22187982\n",
      " 0.21904205 0.2162686  0.21355733 0.21090598 0.20831259 0.2057751\n",
      " 0.20329155 0.20086017 0.19847924 0.1961471  0.19386217 0.19162287\n",
      " 0.18942773 0.1872755  0.18516469 0.18309408 0.18106245 0.17906861\n",
      " 0.17711137 0.17518982 0.17330271 0.17144917 0.1696282  0.16783893\n",
      " 0.16608039 0.16435182 0.1626523  0.16098109 0.15933743 0.15772058\n",
      " 0.15612987 0.1545646  0.15302409 0.15150774]\n",
      " 8 day output [[0.15001492]]\n",
      " 9 day input [0.96041623 0.71875846 0.71902382 0.71472311 0.70619941 0.69434339\n",
      " 0.6801526  0.66451842 0.64814842 0.63155884 0.61509913 0.5989905\n",
      " 0.58335841 0.56826591 0.553734   0.53976029 0.52632928 0.51341969\n",
      " 0.5010078  0.48907027 0.47758517 0.46653137 0.4558897  0.44564214\n",
      " 0.43577161 0.42626163 0.41709685 0.40826261 0.39974451 0.39152914\n",
      " 0.3836033  0.3759543  0.36857009 0.36143923 0.35455072 0.34789392\n",
      " 0.34145859 0.33523527 0.32921463 0.32338783 0.31774682 0.31228316\n",
      " 0.30698961 0.30185863 0.2968834  0.29205731 0.2873742  0.28282794\n",
      " 0.27841288 0.27412355 0.26995489 0.26590189 0.26195982 0.25812432\n",
      " 0.25439107 0.25075608 0.24721538 0.24376537 0.24040256 0.23712361\n",
      " 0.23392525 0.23080453 0.22775857 0.22478452 0.22187982 0.21904205\n",
      " 0.2162686  0.21355733 0.21090598 0.20831259 0.2057751  0.20329155\n",
      " 0.20086017 0.19847924 0.1961471  0.19386217 0.19162287 0.18942773\n",
      " 0.1872755  0.18516469 0.18309408 0.18106245 0.17906861 0.17711137\n",
      " 0.17518982 0.17330271 0.17144917 0.1696282  0.16783893 0.16608039\n",
      " 0.16435182 0.1626523  0.16098109 0.15933743 0.15772058 0.15612987\n",
      " 0.1545646  0.15302409 0.15150774 0.15001492]\n",
      " 9 day output [[0.14854506]]\n",
      " 10 day input [0.71875846 0.71902382 0.71472311 0.70619941 0.69434339 0.6801526\n",
      " 0.66451842 0.64814842 0.63155884 0.61509913 0.5989905  0.58335841\n",
      " 0.56826591 0.553734   0.53976029 0.52632928 0.51341969 0.5010078\n",
      " 0.48907027 0.47758517 0.46653137 0.4558897  0.44564214 0.43577161\n",
      " 0.42626163 0.41709685 0.40826261 0.39974451 0.39152914 0.3836033\n",
      " 0.3759543  0.36857009 0.36143923 0.35455072 0.34789392 0.34145859\n",
      " 0.33523527 0.32921463 0.32338783 0.31774682 0.31228316 0.30698961\n",
      " 0.30185863 0.2968834  0.29205731 0.2873742  0.28282794 0.27841288\n",
      " 0.27412355 0.26995489 0.26590189 0.26195982 0.25812432 0.25439107\n",
      " 0.25075608 0.24721538 0.24376537 0.24040256 0.23712361 0.23392525\n",
      " 0.23080453 0.22775857 0.22478452 0.22187982 0.21904205 0.2162686\n",
      " 0.21355733 0.21090598 0.20831259 0.2057751  0.20329155 0.20086017\n",
      " 0.19847924 0.1961471  0.19386217 0.19162287 0.18942773 0.1872755\n",
      " 0.18516469 0.18309408 0.18106245 0.17906861 0.17711137 0.17518982\n",
      " 0.17330271 0.17144917 0.1696282  0.16783893 0.16608039 0.16435182\n",
      " 0.1626523  0.16098109 0.15933743 0.15772058 0.15612987 0.1545646\n",
      " 0.15302409 0.15150774 0.15001492 0.14854506]\n",
      " 10 day output [[0.14709759]]\n",
      " 11 day input [0.71902382 0.71472311 0.70619941 0.69434339 0.6801526  0.66451842\n",
      " 0.64814842 0.63155884 0.61509913 0.5989905  0.58335841 0.56826591\n",
      " 0.553734   0.53976029 0.52632928 0.51341969 0.5010078  0.48907027\n",
      " 0.47758517 0.46653137 0.4558897  0.44564214 0.43577161 0.42626163\n",
      " 0.41709685 0.40826261 0.39974451 0.39152914 0.3836033  0.3759543\n",
      " 0.36857009 0.36143923 0.35455072 0.34789392 0.34145859 0.33523527\n",
      " 0.32921463 0.32338783 0.31774682 0.31228316 0.30698961 0.30185863\n",
      " 0.2968834  0.29205731 0.2873742  0.28282794 0.27841288 0.27412355\n",
      " 0.26995489 0.26590189 0.26195982 0.25812432 0.25439107 0.25075608\n",
      " 0.24721538 0.24376537 0.24040256 0.23712361 0.23392525 0.23080453\n",
      " 0.22775857 0.22478452 0.22187982 0.21904205 0.2162686  0.21355733\n",
      " 0.21090598 0.20831259 0.2057751  0.20329155 0.20086017 0.19847924\n",
      " 0.1961471  0.19386217 0.19162287 0.18942773 0.1872755  0.18516469\n",
      " 0.18309408 0.18106245 0.17906861 0.17711137 0.17518982 0.17330271\n",
      " 0.17144917 0.1696282  0.16783893 0.16608039 0.16435182 0.1626523\n",
      " 0.16098109 0.15933743 0.15772058 0.15612987 0.1545646  0.15302409\n",
      " 0.15150774 0.15001492 0.14854506 0.14709759]\n",
      " 11 day output [[0.14567192]]\n",
      " 12 day input [0.71472311 0.70619941 0.69434339 0.6801526  0.66451842 0.64814842\n",
      " 0.63155884 0.61509913 0.5989905  0.58335841 0.56826591 0.553734\n",
      " 0.53976029 0.52632928 0.51341969 0.5010078  0.48907027 0.47758517\n",
      " 0.46653137 0.4558897  0.44564214 0.43577161 0.42626163 0.41709685\n",
      " 0.40826261 0.39974451 0.39152914 0.3836033  0.3759543  0.36857009\n",
      " 0.36143923 0.35455072 0.34789392 0.34145859 0.33523527 0.32921463\n",
      " 0.32338783 0.31774682 0.31228316 0.30698961 0.30185863 0.2968834\n",
      " 0.29205731 0.2873742  0.28282794 0.27841288 0.27412355 0.26995489\n",
      " 0.26590189 0.26195982 0.25812432 0.25439107 0.25075608 0.24721538\n",
      " 0.24376537 0.24040256 0.23712361 0.23392525 0.23080453 0.22775857\n",
      " 0.22478452 0.22187982 0.21904205 0.2162686  0.21355733 0.21090598\n",
      " 0.20831259 0.2057751  0.20329155 0.20086017 0.19847924 0.1961471\n",
      " 0.19386217 0.19162287 0.18942773 0.1872755  0.18516469 0.18309408\n",
      " 0.18106245 0.17906861 0.17711137 0.17518982 0.17330271 0.17144917\n",
      " 0.1696282  0.16783893 0.16608039 0.16435182 0.1626523  0.16098109\n",
      " 0.15933743 0.15772058 0.15612987 0.1545646  0.15302409 0.15150774\n",
      " 0.15001492 0.14854506 0.14709759 0.14567192]\n",
      " 12 day output [[0.14426762]]\n",
      " 13 day input [0.70619941 0.69434339 0.6801526  0.66451842 0.64814842 0.63155884\n",
      " 0.61509913 0.5989905  0.58335841 0.56826591 0.553734   0.53976029\n",
      " 0.52632928 0.51341969 0.5010078  0.48907027 0.47758517 0.46653137\n",
      " 0.4558897  0.44564214 0.43577161 0.42626163 0.41709685 0.40826261\n",
      " 0.39974451 0.39152914 0.3836033  0.3759543  0.36857009 0.36143923\n",
      " 0.35455072 0.34789392 0.34145859 0.33523527 0.32921463 0.32338783\n",
      " 0.31774682 0.31228316 0.30698961 0.30185863 0.2968834  0.29205731\n",
      " 0.2873742  0.28282794 0.27841288 0.27412355 0.26995489 0.26590189\n",
      " 0.26195982 0.25812432 0.25439107 0.25075608 0.24721538 0.24376537\n",
      " 0.24040256 0.23712361 0.23392525 0.23080453 0.22775857 0.22478452\n",
      " 0.22187982 0.21904205 0.2162686  0.21355733 0.21090598 0.20831259\n",
      " 0.2057751  0.20329155 0.20086017 0.19847924 0.1961471  0.19386217\n",
      " 0.19162287 0.18942773 0.1872755  0.18516469 0.18309408 0.18106245\n",
      " 0.17906861 0.17711137 0.17518982 0.17330271 0.17144917 0.1696282\n",
      " 0.16783893 0.16608039 0.16435182 0.1626523  0.16098109 0.15933743\n",
      " 0.15772058 0.15612987 0.1545646  0.15302409 0.15150774 0.15001492\n",
      " 0.14854506 0.14709759 0.14567192 0.14426762]\n",
      " 13 day output [[0.14288405]]\n",
      " 14 day input [0.69434339 0.6801526  0.66451842 0.64814842 0.63155884 0.61509913\n",
      " 0.5989905  0.58335841 0.56826591 0.553734   0.53976029 0.52632928\n",
      " 0.51341969 0.5010078  0.48907027 0.47758517 0.46653137 0.4558897\n",
      " 0.44564214 0.43577161 0.42626163 0.41709685 0.40826261 0.39974451\n",
      " 0.39152914 0.3836033  0.3759543  0.36857009 0.36143923 0.35455072\n",
      " 0.34789392 0.34145859 0.33523527 0.32921463 0.32338783 0.31774682\n",
      " 0.31228316 0.30698961 0.30185863 0.2968834  0.29205731 0.2873742\n",
      " 0.28282794 0.27841288 0.27412355 0.26995489 0.26590189 0.26195982\n",
      " 0.25812432 0.25439107 0.25075608 0.24721538 0.24376537 0.24040256\n",
      " 0.23712361 0.23392525 0.23080453 0.22775857 0.22478452 0.22187982\n",
      " 0.21904205 0.2162686  0.21355733 0.21090598 0.20831259 0.2057751\n",
      " 0.20329155 0.20086017 0.19847924 0.1961471  0.19386217 0.19162287\n",
      " 0.18942773 0.1872755  0.18516469 0.18309408 0.18106245 0.17906861\n",
      " 0.17711137 0.17518982 0.17330271 0.17144917 0.1696282  0.16783893\n",
      " 0.16608039 0.16435182 0.1626523  0.16098109 0.15933743 0.15772058\n",
      " 0.15612987 0.1545646  0.15302409 0.15150774 0.15001492 0.14854506\n",
      " 0.14709759 0.14567192 0.14426762 0.14288405]\n",
      " 14 day output [[0.14152081]]\n",
      " 15 day input [0.6801526  0.66451842 0.64814842 0.63155884 0.61509913 0.5989905\n",
      " 0.58335841 0.56826591 0.553734   0.53976029 0.52632928 0.51341969\n",
      " 0.5010078  0.48907027 0.47758517 0.46653137 0.4558897  0.44564214\n",
      " 0.43577161 0.42626163 0.41709685 0.40826261 0.39974451 0.39152914\n",
      " 0.3836033  0.3759543  0.36857009 0.36143923 0.35455072 0.34789392\n",
      " 0.34145859 0.33523527 0.32921463 0.32338783 0.31774682 0.31228316\n",
      " 0.30698961 0.30185863 0.2968834  0.29205731 0.2873742  0.28282794\n",
      " 0.27841288 0.27412355 0.26995489 0.26590189 0.26195982 0.25812432\n",
      " 0.25439107 0.25075608 0.24721538 0.24376537 0.24040256 0.23712361\n",
      " 0.23392525 0.23080453 0.22775857 0.22478452 0.22187982 0.21904205\n",
      " 0.2162686  0.21355733 0.21090598 0.20831259 0.2057751  0.20329155\n",
      " 0.20086017 0.19847924 0.1961471  0.19386217 0.19162287 0.18942773\n",
      " 0.1872755  0.18516469 0.18309408 0.18106245 0.17906861 0.17711137\n",
      " 0.17518982 0.17330271 0.17144917 0.1696282  0.16783893 0.16608039\n",
      " 0.16435182 0.1626523  0.16098109 0.15933743 0.15772058 0.15612987\n",
      " 0.1545646  0.15302409 0.15150774 0.15001492 0.14854506 0.14709759\n",
      " 0.14567192 0.14426762 0.14288405 0.14152081]\n",
      " 15 day output [[0.14017744]]\n",
      " 16 day input [0.66451842 0.64814842 0.63155884 0.61509913 0.5989905  0.58335841\n",
      " 0.56826591 0.553734   0.53976029 0.52632928 0.51341969 0.5010078\n",
      " 0.48907027 0.47758517 0.46653137 0.4558897  0.44564214 0.43577161\n",
      " 0.42626163 0.41709685 0.40826261 0.39974451 0.39152914 0.3836033\n",
      " 0.3759543  0.36857009 0.36143923 0.35455072 0.34789392 0.34145859\n",
      " 0.33523527 0.32921463 0.32338783 0.31774682 0.31228316 0.30698961\n",
      " 0.30185863 0.2968834  0.29205731 0.2873742  0.28282794 0.27841288\n",
      " 0.27412355 0.26995489 0.26590189 0.26195982 0.25812432 0.25439107\n",
      " 0.25075608 0.24721538 0.24376537 0.24040256 0.23712361 0.23392525\n",
      " 0.23080453 0.22775857 0.22478452 0.22187982 0.21904205 0.2162686\n",
      " 0.21355733 0.21090598 0.20831259 0.2057751  0.20329155 0.20086017\n",
      " 0.19847924 0.1961471  0.19386217 0.19162287 0.18942773 0.1872755\n",
      " 0.18516469 0.18309408 0.18106245 0.17906861 0.17711137 0.17518982\n",
      " 0.17330271 0.17144917 0.1696282  0.16783893 0.16608039 0.16435182\n",
      " 0.1626523  0.16098109 0.15933743 0.15772058 0.15612987 0.1545646\n",
      " 0.15302409 0.15150774 0.15001492 0.14854506 0.14709759 0.14567192\n",
      " 0.14426762 0.14288405 0.14152081 0.14017744]\n",
      " 16 day output [[0.13885337]]\n",
      " 17 day input [0.64814842 0.63155884 0.61509913 0.5989905  0.58335841 0.56826591\n",
      " 0.553734   0.53976029 0.52632928 0.51341969 0.5010078  0.48907027\n",
      " 0.47758517 0.46653137 0.4558897  0.44564214 0.43577161 0.42626163\n",
      " 0.41709685 0.40826261 0.39974451 0.39152914 0.3836033  0.3759543\n",
      " 0.36857009 0.36143923 0.35455072 0.34789392 0.34145859 0.33523527\n",
      " 0.32921463 0.32338783 0.31774682 0.31228316 0.30698961 0.30185863\n",
      " 0.2968834  0.29205731 0.2873742  0.28282794 0.27841288 0.27412355\n",
      " 0.26995489 0.26590189 0.26195982 0.25812432 0.25439107 0.25075608\n",
      " 0.24721538 0.24376537 0.24040256 0.23712361 0.23392525 0.23080453\n",
      " 0.22775857 0.22478452 0.22187982 0.21904205 0.2162686  0.21355733\n",
      " 0.21090598 0.20831259 0.2057751  0.20329155 0.20086017 0.19847924\n",
      " 0.1961471  0.19386217 0.19162287 0.18942773 0.1872755  0.18516469\n",
      " 0.18309408 0.18106245 0.17906861 0.17711137 0.17518982 0.17330271\n",
      " 0.17144917 0.1696282  0.16783893 0.16608039 0.16435182 0.1626523\n",
      " 0.16098109 0.15933743 0.15772058 0.15612987 0.1545646  0.15302409\n",
      " 0.15150774 0.15001492 0.14854506 0.14709759 0.14567192 0.14426762\n",
      " 0.14288405 0.14152081 0.14017744 0.13885337]\n",
      " 17 day output [[0.13754824]]\n",
      " 18 day input [0.63155884 0.61509913 0.5989905  0.58335841 0.56826591 0.553734\n",
      " 0.53976029 0.52632928 0.51341969 0.5010078  0.48907027 0.47758517\n",
      " 0.46653137 0.4558897  0.44564214 0.43577161 0.42626163 0.41709685\n",
      " 0.40826261 0.39974451 0.39152914 0.3836033  0.3759543  0.36857009\n",
      " 0.36143923 0.35455072 0.34789392 0.34145859 0.33523527 0.32921463\n",
      " 0.32338783 0.31774682 0.31228316 0.30698961 0.30185863 0.2968834\n",
      " 0.29205731 0.2873742  0.28282794 0.27841288 0.27412355 0.26995489\n",
      " 0.26590189 0.26195982 0.25812432 0.25439107 0.25075608 0.24721538\n",
      " 0.24376537 0.24040256 0.23712361 0.23392525 0.23080453 0.22775857\n",
      " 0.22478452 0.22187982 0.21904205 0.2162686  0.21355733 0.21090598\n",
      " 0.20831259 0.2057751  0.20329155 0.20086017 0.19847924 0.1961471\n",
      " 0.19386217 0.19162287 0.18942773 0.1872755  0.18516469 0.18309408\n",
      " 0.18106245 0.17906861 0.17711137 0.17518982 0.17330271 0.17144917\n",
      " 0.1696282  0.16783893 0.16608039 0.16435182 0.1626523  0.16098109\n",
      " 0.15933743 0.15772058 0.15612987 0.1545646  0.15302409 0.15150774\n",
      " 0.15001492 0.14854506 0.14709759 0.14567192 0.14426762 0.14288405\n",
      " 0.14152081 0.14017744 0.13885337 0.13754824]\n",
      " 18 day output [[0.13626161]]\n",
      " 19 day input [0.61509913 0.5989905  0.58335841 0.56826591 0.553734   0.53976029\n",
      " 0.52632928 0.51341969 0.5010078  0.48907027 0.47758517 0.46653137\n",
      " 0.4558897  0.44564214 0.43577161 0.42626163 0.41709685 0.40826261\n",
      " 0.39974451 0.39152914 0.3836033  0.3759543  0.36857009 0.36143923\n",
      " 0.35455072 0.34789392 0.34145859 0.33523527 0.32921463 0.32338783\n",
      " 0.31774682 0.31228316 0.30698961 0.30185863 0.2968834  0.29205731\n",
      " 0.2873742  0.28282794 0.27841288 0.27412355 0.26995489 0.26590189\n",
      " 0.26195982 0.25812432 0.25439107 0.25075608 0.24721538 0.24376537\n",
      " 0.24040256 0.23712361 0.23392525 0.23080453 0.22775857 0.22478452\n",
      " 0.22187982 0.21904205 0.2162686  0.21355733 0.21090598 0.20831259\n",
      " 0.2057751  0.20329155 0.20086017 0.19847924 0.1961471  0.19386217\n",
      " 0.19162287 0.18942773 0.1872755  0.18516469 0.18309408 0.18106245\n",
      " 0.17906861 0.17711137 0.17518982 0.17330271 0.17144917 0.1696282\n",
      " 0.16783893 0.16608039 0.16435182 0.1626523  0.16098109 0.15933743\n",
      " 0.15772058 0.15612987 0.1545646  0.15302409 0.15150774 0.15001492\n",
      " 0.14854506 0.14709759 0.14567192 0.14426762 0.14288405 0.14152081\n",
      " 0.14017744 0.13885337 0.13754824 0.13626161]\n",
      " 19 day output [[0.13499302]]\n",
      " 20 day input [0.5989905  0.58335841 0.56826591 0.553734   0.53976029 0.52632928\n",
      " 0.51341969 0.5010078  0.48907027 0.47758517 0.46653137 0.4558897\n",
      " 0.44564214 0.43577161 0.42626163 0.41709685 0.40826261 0.39974451\n",
      " 0.39152914 0.3836033  0.3759543  0.36857009 0.36143923 0.35455072\n",
      " 0.34789392 0.34145859 0.33523527 0.32921463 0.32338783 0.31774682\n",
      " 0.31228316 0.30698961 0.30185863 0.2968834  0.29205731 0.2873742\n",
      " 0.28282794 0.27841288 0.27412355 0.26995489 0.26590189 0.26195982\n",
      " 0.25812432 0.25439107 0.25075608 0.24721538 0.24376537 0.24040256\n",
      " 0.23712361 0.23392525 0.23080453 0.22775857 0.22478452 0.22187982\n",
      " 0.21904205 0.2162686  0.21355733 0.21090598 0.20831259 0.2057751\n",
      " 0.20329155 0.20086017 0.19847924 0.1961471  0.19386217 0.19162287\n",
      " 0.18942773 0.1872755  0.18516469 0.18309408 0.18106245 0.17906861\n",
      " 0.17711137 0.17518982 0.17330271 0.17144917 0.1696282  0.16783893\n",
      " 0.16608039 0.16435182 0.1626523  0.16098109 0.15933743 0.15772058\n",
      " 0.15612987 0.1545646  0.15302409 0.15150774 0.15001492 0.14854506\n",
      " 0.14709759 0.14567192 0.14426762 0.14288405 0.14152081 0.14017744\n",
      " 0.13885337 0.13754824 0.13626161 0.13499302]\n",
      " 20 day output [[0.13374206]]\n",
      " 21 day input [0.58335841 0.56826591 0.553734   0.53976029 0.52632928 0.51341969\n",
      " 0.5010078  0.48907027 0.47758517 0.46653137 0.4558897  0.44564214\n",
      " 0.43577161 0.42626163 0.41709685 0.40826261 0.39974451 0.39152914\n",
      " 0.3836033  0.3759543  0.36857009 0.36143923 0.35455072 0.34789392\n",
      " 0.34145859 0.33523527 0.32921463 0.32338783 0.31774682 0.31228316\n",
      " 0.30698961 0.30185863 0.2968834  0.29205731 0.2873742  0.28282794\n",
      " 0.27841288 0.27412355 0.26995489 0.26590189 0.26195982 0.25812432\n",
      " 0.25439107 0.25075608 0.24721538 0.24376537 0.24040256 0.23712361\n",
      " 0.23392525 0.23080453 0.22775857 0.22478452 0.22187982 0.21904205\n",
      " 0.2162686  0.21355733 0.21090598 0.20831259 0.2057751  0.20329155\n",
      " 0.20086017 0.19847924 0.1961471  0.19386217 0.19162287 0.18942773\n",
      " 0.1872755  0.18516469 0.18309408 0.18106245 0.17906861 0.17711137\n",
      " 0.17518982 0.17330271 0.17144917 0.1696282  0.16783893 0.16608039\n",
      " 0.16435182 0.1626523  0.16098109 0.15933743 0.15772058 0.15612987\n",
      " 0.1545646  0.15302409 0.15150774 0.15001492 0.14854506 0.14709759\n",
      " 0.14567192 0.14426762 0.14288405 0.14152081 0.14017744 0.13885337\n",
      " 0.13754824 0.13626161 0.13499302 0.13374206]\n",
      " 21 day output [[0.13250841]]\n",
      " 22 day input [0.56826591 0.553734   0.53976029 0.52632928 0.51341969 0.5010078\n",
      " 0.48907027 0.47758517 0.46653137 0.4558897  0.44564214 0.43577161\n",
      " 0.42626163 0.41709685 0.40826261 0.39974451 0.39152914 0.3836033\n",
      " 0.3759543  0.36857009 0.36143923 0.35455072 0.34789392 0.34145859\n",
      " 0.33523527 0.32921463 0.32338783 0.31774682 0.31228316 0.30698961\n",
      " 0.30185863 0.2968834  0.29205731 0.2873742  0.28282794 0.27841288\n",
      " 0.27412355 0.26995489 0.26590189 0.26195982 0.25812432 0.25439107\n",
      " 0.25075608 0.24721538 0.24376537 0.24040256 0.23712361 0.23392525\n",
      " 0.23080453 0.22775857 0.22478452 0.22187982 0.21904205 0.2162686\n",
      " 0.21355733 0.21090598 0.20831259 0.2057751  0.20329155 0.20086017\n",
      " 0.19847924 0.1961471  0.19386217 0.19162287 0.18942773 0.1872755\n",
      " 0.18516469 0.18309408 0.18106245 0.17906861 0.17711137 0.17518982\n",
      " 0.17330271 0.17144917 0.1696282  0.16783893 0.16608039 0.16435182\n",
      " 0.1626523  0.16098109 0.15933743 0.15772058 0.15612987 0.1545646\n",
      " 0.15302409 0.15150774 0.15001492 0.14854506 0.14709759 0.14567192\n",
      " 0.14426762 0.14288405 0.14152081 0.14017744 0.13885337 0.13754824\n",
      " 0.13626161 0.13499302 0.13374206 0.13250841]\n",
      " 22 day output [[0.13129167]]\n",
      " 23 day input [0.553734   0.53976029 0.52632928 0.51341969 0.5010078  0.48907027\n",
      " 0.47758517 0.46653137 0.4558897  0.44564214 0.43577161 0.42626163\n",
      " 0.41709685 0.40826261 0.39974451 0.39152914 0.3836033  0.3759543\n",
      " 0.36857009 0.36143923 0.35455072 0.34789392 0.34145859 0.33523527\n",
      " 0.32921463 0.32338783 0.31774682 0.31228316 0.30698961 0.30185863\n",
      " 0.2968834  0.29205731 0.2873742  0.28282794 0.27841288 0.27412355\n",
      " 0.26995489 0.26590189 0.26195982 0.25812432 0.25439107 0.25075608\n",
      " 0.24721538 0.24376537 0.24040256 0.23712361 0.23392525 0.23080453\n",
      " 0.22775857 0.22478452 0.22187982 0.21904205 0.2162686  0.21355733\n",
      " 0.21090598 0.20831259 0.2057751  0.20329155 0.20086017 0.19847924\n",
      " 0.1961471  0.19386217 0.19162287 0.18942773 0.1872755  0.18516469\n",
      " 0.18309408 0.18106245 0.17906861 0.17711137 0.17518982 0.17330271\n",
      " 0.17144917 0.1696282  0.16783893 0.16608039 0.16435182 0.1626523\n",
      " 0.16098109 0.15933743 0.15772058 0.15612987 0.1545646  0.15302409\n",
      " 0.15150774 0.15001492 0.14854506 0.14709759 0.14567192 0.14426762\n",
      " 0.14288405 0.14152081 0.14017744 0.13885337 0.13754824 0.13626161\n",
      " 0.13499302 0.13374206 0.13250841 0.13129167]\n",
      " 23 day output [[0.13009141]]\n",
      " 24 day input [0.53976029 0.52632928 0.51341969 0.5010078  0.48907027 0.47758517\n",
      " 0.46653137 0.4558897  0.44564214 0.43577161 0.42626163 0.41709685\n",
      " 0.40826261 0.39974451 0.39152914 0.3836033  0.3759543  0.36857009\n",
      " 0.36143923 0.35455072 0.34789392 0.34145859 0.33523527 0.32921463\n",
      " 0.32338783 0.31774682 0.31228316 0.30698961 0.30185863 0.2968834\n",
      " 0.29205731 0.2873742  0.28282794 0.27841288 0.27412355 0.26995489\n",
      " 0.26590189 0.26195982 0.25812432 0.25439107 0.25075608 0.24721538\n",
      " 0.24376537 0.24040256 0.23712361 0.23392525 0.23080453 0.22775857\n",
      " 0.22478452 0.22187982 0.21904205 0.2162686  0.21355733 0.21090598\n",
      " 0.20831259 0.2057751  0.20329155 0.20086017 0.19847924 0.1961471\n",
      " 0.19386217 0.19162287 0.18942773 0.1872755  0.18516469 0.18309408\n",
      " 0.18106245 0.17906861 0.17711137 0.17518982 0.17330271 0.17144917\n",
      " 0.1696282  0.16783893 0.16608039 0.16435182 0.1626523  0.16098109\n",
      " 0.15933743 0.15772058 0.15612987 0.1545646  0.15302409 0.15150774\n",
      " 0.15001492 0.14854506 0.14709759 0.14567192 0.14426762 0.14288405\n",
      " 0.14152081 0.14017744 0.13885337 0.13754824 0.13626161 0.13499302\n",
      " 0.13374206 0.13250841 0.13129167 0.13009141]\n",
      " 24 day output [[0.12890734]]\n",
      " 25 day input [0.52632928 0.51341969 0.5010078  0.48907027 0.47758517 0.46653137\n",
      " 0.4558897  0.44564214 0.43577161 0.42626163 0.41709685 0.40826261\n",
      " 0.39974451 0.39152914 0.3836033  0.3759543  0.36857009 0.36143923\n",
      " 0.35455072 0.34789392 0.34145859 0.33523527 0.32921463 0.32338783\n",
      " 0.31774682 0.31228316 0.30698961 0.30185863 0.2968834  0.29205731\n",
      " 0.2873742  0.28282794 0.27841288 0.27412355 0.26995489 0.26590189\n",
      " 0.26195982 0.25812432 0.25439107 0.25075608 0.24721538 0.24376537\n",
      " 0.24040256 0.23712361 0.23392525 0.23080453 0.22775857 0.22478452\n",
      " 0.22187982 0.21904205 0.2162686  0.21355733 0.21090598 0.20831259\n",
      " 0.2057751  0.20329155 0.20086017 0.19847924 0.1961471  0.19386217\n",
      " 0.19162287 0.18942773 0.1872755  0.18516469 0.18309408 0.18106245\n",
      " 0.17906861 0.17711137 0.17518982 0.17330271 0.17144917 0.1696282\n",
      " 0.16783893 0.16608039 0.16435182 0.1626523  0.16098109 0.15933743\n",
      " 0.15772058 0.15612987 0.1545646  0.15302409 0.15150774 0.15001492\n",
      " 0.14854506 0.14709759 0.14567192 0.14426762 0.14288405 0.14152081\n",
      " 0.14017744 0.13885337 0.13754824 0.13626161 0.13499302 0.13374206\n",
      " 0.13250841 0.13129167 0.13009141 0.12890734]\n",
      " 25 day output [[0.12773906]]\n",
      " 26 day input [0.51341969 0.5010078  0.48907027 0.47758517 0.46653137 0.4558897\n",
      " 0.44564214 0.43577161 0.42626163 0.41709685 0.40826261 0.39974451\n",
      " 0.39152914 0.3836033  0.3759543  0.36857009 0.36143923 0.35455072\n",
      " 0.34789392 0.34145859 0.33523527 0.32921463 0.32338783 0.31774682\n",
      " 0.31228316 0.30698961 0.30185863 0.2968834  0.29205731 0.2873742\n",
      " 0.28282794 0.27841288 0.27412355 0.26995489 0.26590189 0.26195982\n",
      " 0.25812432 0.25439107 0.25075608 0.24721538 0.24376537 0.24040256\n",
      " 0.23712361 0.23392525 0.23080453 0.22775857 0.22478452 0.22187982\n",
      " 0.21904205 0.2162686  0.21355733 0.21090598 0.20831259 0.2057751\n",
      " 0.20329155 0.20086017 0.19847924 0.1961471  0.19386217 0.19162287\n",
      " 0.18942773 0.1872755  0.18516469 0.18309408 0.18106245 0.17906861\n",
      " 0.17711137 0.17518982 0.17330271 0.17144917 0.1696282  0.16783893\n",
      " 0.16608039 0.16435182 0.1626523  0.16098109 0.15933743 0.15772058\n",
      " 0.15612987 0.1545646  0.15302409 0.15150774 0.15001492 0.14854506\n",
      " 0.14709759 0.14567192 0.14426762 0.14288405 0.14152081 0.14017744\n",
      " 0.13885337 0.13754824 0.13626161 0.13499302 0.13374206 0.13250841\n",
      " 0.13129167 0.13009141 0.12890734 0.12773906]\n",
      " 26 day output [[0.12658626]]\n",
      " 27 day input [0.5010078  0.48907027 0.47758517 0.46653137 0.4558897  0.44564214\n",
      " 0.43577161 0.42626163 0.41709685 0.40826261 0.39974451 0.39152914\n",
      " 0.3836033  0.3759543  0.36857009 0.36143923 0.35455072 0.34789392\n",
      " 0.34145859 0.33523527 0.32921463 0.32338783 0.31774682 0.31228316\n",
      " 0.30698961 0.30185863 0.2968834  0.29205731 0.2873742  0.28282794\n",
      " 0.27841288 0.27412355 0.26995489 0.26590189 0.26195982 0.25812432\n",
      " 0.25439107 0.25075608 0.24721538 0.24376537 0.24040256 0.23712361\n",
      " 0.23392525 0.23080453 0.22775857 0.22478452 0.22187982 0.21904205\n",
      " 0.2162686  0.21355733 0.21090598 0.20831259 0.2057751  0.20329155\n",
      " 0.20086017 0.19847924 0.1961471  0.19386217 0.19162287 0.18942773\n",
      " 0.1872755  0.18516469 0.18309408 0.18106245 0.17906861 0.17711137\n",
      " 0.17518982 0.17330271 0.17144917 0.1696282  0.16783893 0.16608039\n",
      " 0.16435182 0.1626523  0.16098109 0.15933743 0.15772058 0.15612987\n",
      " 0.1545646  0.15302409 0.15150774 0.15001492 0.14854506 0.14709759\n",
      " 0.14567192 0.14426762 0.14288405 0.14152081 0.14017744 0.13885337\n",
      " 0.13754824 0.13626161 0.13499302 0.13374206 0.13250841 0.13129167\n",
      " 0.13009141 0.12890734 0.12773906 0.12658626]\n",
      " 27 day output [[0.12544861]]\n",
      " 28 day input [0.48907027 0.47758517 0.46653137 0.4558897  0.44564214 0.43577161\n",
      " 0.42626163 0.41709685 0.40826261 0.39974451 0.39152914 0.3836033\n",
      " 0.3759543  0.36857009 0.36143923 0.35455072 0.34789392 0.34145859\n",
      " 0.33523527 0.32921463 0.32338783 0.31774682 0.31228316 0.30698961\n",
      " 0.30185863 0.2968834  0.29205731 0.2873742  0.28282794 0.27841288\n",
      " 0.27412355 0.26995489 0.26590189 0.26195982 0.25812432 0.25439107\n",
      " 0.25075608 0.24721538 0.24376537 0.24040256 0.23712361 0.23392525\n",
      " 0.23080453 0.22775857 0.22478452 0.22187982 0.21904205 0.2162686\n",
      " 0.21355733 0.21090598 0.20831259 0.2057751  0.20329155 0.20086017\n",
      " 0.19847924 0.1961471  0.19386217 0.19162287 0.18942773 0.1872755\n",
      " 0.18516469 0.18309408 0.18106245 0.17906861 0.17711137 0.17518982\n",
      " 0.17330271 0.17144917 0.1696282  0.16783893 0.16608039 0.16435182\n",
      " 0.1626523  0.16098109 0.15933743 0.15772058 0.15612987 0.1545646\n",
      " 0.15302409 0.15150774 0.15001492 0.14854506 0.14709759 0.14567192\n",
      " 0.14426762 0.14288405 0.14152081 0.14017744 0.13885337 0.13754824\n",
      " 0.13626161 0.13499302 0.13374206 0.13250841 0.13129167 0.13009141\n",
      " 0.12890734 0.12773906 0.12658626 0.12544861]\n",
      " 28 day output [[0.12432582]]\n",
      " 29 day input [0.47758517 0.46653137 0.4558897  0.44564214 0.43577161 0.42626163\n",
      " 0.41709685 0.40826261 0.39974451 0.39152914 0.3836033  0.3759543\n",
      " 0.36857009 0.36143923 0.35455072 0.34789392 0.34145859 0.33523527\n",
      " 0.32921463 0.32338783 0.31774682 0.31228316 0.30698961 0.30185863\n",
      " 0.2968834  0.29205731 0.2873742  0.28282794 0.27841288 0.27412355\n",
      " 0.26995489 0.26590189 0.26195982 0.25812432 0.25439107 0.25075608\n",
      " 0.24721538 0.24376537 0.24040256 0.23712361 0.23392525 0.23080453\n",
      " 0.22775857 0.22478452 0.22187982 0.21904205 0.2162686  0.21355733\n",
      " 0.21090598 0.20831259 0.2057751  0.20329155 0.20086017 0.19847924\n",
      " 0.1961471  0.19386217 0.19162287 0.18942773 0.1872755  0.18516469\n",
      " 0.18309408 0.18106245 0.17906861 0.17711137 0.17518982 0.17330271\n",
      " 0.17144917 0.1696282  0.16783893 0.16608039 0.16435182 0.1626523\n",
      " 0.16098109 0.15933743 0.15772058 0.15612987 0.1545646  0.15302409\n",
      " 0.15150774 0.15001492 0.14854506 0.14709759 0.14567192 0.14426762\n",
      " 0.14288405 0.14152081 0.14017744 0.13885337 0.13754824 0.13626161\n",
      " 0.13499302 0.13374206 0.13250841 0.13129167 0.13009141 0.12890734\n",
      " 0.12773906 0.12658626 0.12544861 0.12432582]\n",
      " 29 day output [[0.12321756]]\n",
      "[[0.16265229880809784], [0.16098108887672424], [0.15933743119239807], [0.15772058069705963], [0.1561298668384552], [0.15456460416316986], [0.1530240923166275], [0.15150773525238037], [0.15001492202281952], [0.1485450565814972], [0.14709758758544922], [0.14567191898822784], [0.14426761865615845], [0.1428840458393097], [0.14152081310749054], [0.14017744362354279], [0.13885337114334106], [0.13754823803901672], [0.13626161217689514], [0.13499301671981812], [0.1337420642375946], [0.13250841200351715], [0.13129167258739471], [0.13009141385555267], [0.12890733778476715], [0.1277390569448471], [0.12658625841140747], [0.12544861435890198], [0.12432581931352615], [0.12321756035089493]]\n"
     ]
    }
   ],
   "source": [
    "# Demonstrate prediction for next 30 days\n",
    "from numpy import array\n",
    "\n",
    "List_output=[]\n",
    "n_steps=100\n",
    "i=0\n",
    "while(i<30): # First it will go in else part\n",
    "\n",
    "  if(len(temp_input)>100):\n",
    "    x_input=np.array(temp_input[1:])\n",
    "    print(\" {} day input {}\".format(i,x_input))\n",
    "    x_input=x_input.reshape(1,-1)\n",
    "    x_input=x_input.reshape((1,n_steps,1))\n",
    "    yhat=model.predict(x_input,verbose=0)\n",
    "    print(\" {} day output {}\".format(i,yhat))\n",
    "    temp_input.extend(yhat[0].tolist())\n",
    "    temp_input=temp_input[1:]\n",
    "    List_output.extend(yhat.tolist())\n",
    "    i=i+1\n",
    "\n",
    "  else:\n",
    "    x_input=x_input.reshape((1,n_steps,1))  # reshape\n",
    "    yhat=model.predict(x_input,verbose=0) # Predict\n",
    "    print(yhat[0])\n",
    "    temp_input.extend(yhat[0].tolist())\n",
    "    print(len(temp_input))\n",
    "    List_output.extend(yhat.tolist()) # Adding the y hat value in the final output and also adding it in the previous input(temp input)\n",
    "    i=i+1\n",
    "\n",
    "print(List_output) # Adding all the output\n",
    "# First_output.extend(yhat.tolist()) # Adding the y hat value in the final output and also adding it in the previous input(temp input)\n",
    "# Now It will have 101 element and so we have to shift from one position and take the remaining data\n",
    "# then we will move to if\n",
    "# if temp greater then 100 , then i will shift one position to the right\n",
    "# then reshape and then predict\n",
    "# this will go until we do 30 loops"
   ]
  },
  {
   "cell_type": "code",
   "execution_count": 68,
   "id": "JN8D8YcHHd9o",
   "metadata": {
    "id": "JN8D8YcHHd9o"
   },
   "outputs": [],
   "source": [
    "# Plotting\n",
    "day_new=np.arange(1,101) # 100 index inside this\n",
    "day_pred=np.arange(101,131) # because we will predict 30 days"
   ]
  },
  {
   "cell_type": "code",
   "execution_count": 69,
   "id": "i52wyhHBHeAu",
   "metadata": {
    "colab": {
     "base_uri": "https://localhost:8080/"
    },
    "id": "i52wyhHBHeAu",
    "outputId": "d5562d15-f9b3-4325-8b98-db80f289748b"
   },
   "outputs": [
    {
     "data": {
      "text/plain": [
       "10949"
      ]
     },
     "execution_count": 69,
     "metadata": {},
     "output_type": "execute_result"
    }
   ],
   "source": [
    "len(df1)"
   ]
  },
  {
   "cell_type": "code",
   "execution_count": 70,
   "id": "G9OCK1tmHeD3",
   "metadata": {
    "id": "G9OCK1tmHeD3"
   },
   "outputs": [],
   "source": [
    "df3=df1.tolist()\n",
    "df3.extend(List_output)"
   ]
  },
  {
   "cell_type": "code",
   "execution_count": 72,
   "id": "DOvdUvG5HeG-",
   "metadata": {
    "colab": {
     "base_uri": "https://localhost:8080/",
     "height": 256
    },
    "id": "DOvdUvG5HeG-",
    "outputId": "a05afd77-fc56-4f5f-8d0a-4ff83ced7db4"
   },
   "outputs": [
    {
     "data": {
      "text/plain": [
       "[<matplotlib.lines.Line2D at 0x782889f231f0>]"
      ]
     },
     "execution_count": 72,
     "metadata": {},
     "output_type": "execute_result"
    },
    {
     "data": {
      "image/png": "[encoded data removed]",
      "text/plain": [
       "<Figure size 1500x500 with 1 Axes>"
      ]
     },
     "metadata": {},
     "output_type": "display_data"
    }
   ],
   "source": [
    "plt.plot(day_new,scaler.inverse_transform(df1[10849:])) # Previous 100 record # real data\n",
    "plt.plot(day_pred,scaler.inverse_transform(List_output)) # Predicted Data\n",
    "# Yellow one is the new output ( More training required)"
   ]
  },
  {
   "cell_type": "code",
   "execution_count": 77,
   "id": "9BHDUqKFHeKT",
   "metadata": {
    "colab": {
     "base_uri": "https://localhost:8080/",
     "height": 256
    },
    "id": "9BHDUqKFHeKT",
    "outputId": "9c44c006-cd97-460e-c439-cabf89c42bc5"
   },
   "outputs": [
    {
     "data": {
      "text/plain": [
       "[<matplotlib.lines.Line2D at 0x782889669de0>]"
      ]
     },
     "execution_count": 77,
     "metadata": {},
     "output_type": "execute_result"
    },
    {
     "data": {
      "image/png": "[encoded data removed]",
      "text/plain": [
       "<Figure size 1500x500 with 1 Axes>"
      ]
     },
     "metadata": {},
     "output_type": "display_data"
    }
   ],
   "source": [
    "# Combine Output\n",
    "df3=df1.tolist() # previous \n",
    "df3.extend(List_output) # New\n",
    "plt.plot(df3)\n",
    "# More training required\n",
    "# Predict for 100 days\n",
    "# we can use dropout layer and bidirectional Lstm"
   ]
  },
  {
   "cell_type": "code",
   "execution_count": null,
   "id": "lbrsQ70dHeN4",
   "metadata": {
    "id": "lbrsQ70dHeN4"
   },
   "outputs": [],
   "source": []
  },
  {
   "cell_type": "code",
   "execution_count": null,
   "id": "ft95CNFuHeRS",
   "metadata": {
    "id": "ft95CNFuHeRS"
   },
   "outputs": [],
   "source": []
  },
  {
   "cell_type": "code",
   "execution_count": null,
   "id": "XXozOzkLHeUu",
   "metadata": {
    "id": "XXozOzkLHeUu"
   },
   "outputs": [],
   "source": []
  },
  {
   "cell_type": "code",
   "execution_count": null,
   "id": "G-GZ9odAHeYT",
   "metadata": {
    "id": "G-GZ9odAHeYT"
   },
   "outputs": [],
   "source": []
  }
 ],
 "metadata": {
  "colab": {
   "provenance": []
  },
  "kernelspec": {
   "display_name": "Python 3 (ipykernel)",
   "language": "python",
   "name": "python3"
  },
  "language_info": {
   "codemirror_mode": {
    "name": "ipython",
    "version": 3
   },
   "file_extension": ".py",
   "mimetype": "text/x-python",
   "name": "python",
   "nbconvert_exporter": "python",
   "pygments_lexer": "ipython3",
   "version": "3.10.9"
  }
 },
 "nbformat": 4,
 "nbformat_minor": 5
}
